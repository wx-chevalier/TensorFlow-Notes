{
 "cells": [
  {
   "cell_type": "code",
   "execution_count": 1,
   "metadata": {},
   "outputs": [],
   "source": [
    "import tensorflow as tf\n",
    "cluster = tf.train.ClusterSpec({'local': ['localhost:2222', 'localhost:2223']})"
   ]
  },
  {
   "cell_type": "code",
   "execution_count": 2,
   "metadata": {},
   "outputs": [],
   "source": [
    "server = tf.train.Server(cluster, job_name=\"local\", task_index=0)\n",
    "server = tf.train.Server(cluster, job_name=\"local\", task_index=1)"
   ]
  },
  {
   "cell_type": "code",
   "execution_count": 3,
   "metadata": {},
   "outputs": [
    {
     "name": "stdout",
     "output_type": "stream",
     "text": [
      "Summed Values:-20.414339065551758\n"
     ]
    }
   ],
   "source": [
    "mat_dim = 25\n",
    "matrix_list = {}\n",
    "with tf.device('/job:local/task:0'):\n",
    "    for i in range(0, 2):\n",
    "        m_label = 'm_{}'.format(i)\n",
    "        matrix_list[m_label] = tf.random_normal([mat_dim, mat_dim])\n",
    "sum_outs = {}\n",
    "with tf.device('/job:local/task:1'):\n",
    "    for i in range(0, 2):\n",
    "        A = matrix_list['m_{}'.format(i)]\n",
    "        sum_outs['m_{}'.format(i)] = tf.reduce_sum(A)\n",
    "    summed_out = tf.add_n(list(sum_outs.values()))\n",
    "with tf.Session(server.target) as sess:\n",
    "    result = sess.run(summed_out)\n",
    "    print('Summed Values:{}'.format(result))"
   ]
  },
  {
   "cell_type": "code",
   "execution_count": null,
   "metadata": {},
   "outputs": [],
   "source": []
  }
 ],
 "metadata": {
  "kernelspec": {
   "display_name": "Python 3",
   "language": "python",
   "name": "python3"
  },
  "language_info": {
   "codemirror_mode": {
    "name": "ipython",
    "version": 3
   },
   "file_extension": ".py",
   "mimetype": "text/x-python",
   "name": "python",
   "nbconvert_exporter": "python",
   "pygments_lexer": "ipython3",
   "version": "3.5.0"
  }
 },
 "nbformat": 4,
 "nbformat_minor": 2
}
