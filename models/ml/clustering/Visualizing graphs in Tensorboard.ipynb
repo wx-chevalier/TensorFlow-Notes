{
 "cells": [
  {
   "cell_type": "code",
   "execution_count": 1,
   "metadata": {},
   "outputs": [],
   "source": [
    "import os\n",
    "import io\n",
    "import time\n",
    "import numpy as np\n",
    "import matplotlib.pyplot as plt\n",
    "import tensorflow as tf"
   ]
  },
  {
   "cell_type": "code",
   "execution_count": 2,
   "metadata": {},
   "outputs": [],
   "source": [
    "sess = tf.Session()\n",
    "summary_writer = tf.summary.FileWriter('tensorboard', tf.get_default_graph())"
   ]
  },
  {
   "cell_type": "code",
   "execution_count": 3,
   "metadata": {},
   "outputs": [],
   "source": [
    "if not os.path.exists('tensorboard'):\n",
    "    os.makedirs('tensorboard')"
   ]
  },
  {
   "cell_type": "code",
   "execution_count": 4,
   "metadata": {},
   "outputs": [],
   "source": [
    "time.sleep(3)\n",
    "batch_size = 50\n",
    "generations = 100\n",
    "x_data = np.arange(1000)/10.\n",
    "true_slope = 2.\n",
    "y_data = x_data * true_slope + np.random.normal(loc=0.0, scale=25, size=1000)"
   ]
  },
  {
   "cell_type": "code",
   "execution_count": 5,
   "metadata": {},
   "outputs": [],
   "source": [
    "train_ix = np.random.choice(len(x_data), size=int(len(x_data)*0.9), replace=False)\n",
    "test_ix = np.setdiff1d(np.arange(1000), train_ix)\n",
    "x_data_train, y_data_train = x_data[train_ix], y_data[train_ix]\n",
    "x_data_test, y_data_test = x_data[test_ix], y_data[test_ix]"
   ]
  },
  {
   "cell_type": "code",
   "execution_count": 6,
   "metadata": {},
   "outputs": [],
   "source": [
    "x_graph_input = tf.placeholder(tf.float32, [None])\n",
    "y_graph_input = tf.placeholder(tf.float32, [None])\n",
    "m = tf.Variable(tf.random_normal([1], dtype=tf.float32), name='Slope')\n",
    "output = tf.multiply(m, x_graph_input, name='Batch_Multiplication')\n",
    "residuals = output - y_graph_input\n",
    "l2_loss = tf.reduce_mean(tf.abs(residuals), name=\"L2_Loss\")\n",
    "my_optim = tf.train.GradientDescentOptimizer(0.01)\n",
    "train_step = my_optim.minimize(l2_loss)"
   ]
  },
  {
   "cell_type": "code",
   "execution_count": 7,
   "metadata": {},
   "outputs": [],
   "source": [
    "with tf.name_scope('Slope_Estimate'):\n",
    "    tf.summary.scalar('Slope_Estimate', tf.squeeze(m))"
   ]
  },
  {
   "cell_type": "code",
   "execution_count": 8,
   "metadata": {},
   "outputs": [],
   "source": [
    "with tf.name_scope('Loss_and_Residuals'):\n",
    "    tf.summary.histogram('Histogram_Errors', l2_loss)\n",
    "    tf.summary.histogram('Histogram_Residuals', residuals)"
   ]
  },
  {
   "cell_type": "code",
   "execution_count": 9,
   "metadata": {},
   "outputs": [],
   "source": [
    "summary_op = tf.summary.merge_all()\n",
    "init = tf.global_variables_initializer()\n",
    "sess.run(init)"
   ]
  },
  {
   "cell_type": "code",
   "execution_count": 10,
   "metadata": {},
   "outputs": [
    {
     "name": "stdout",
     "output_type": "stream",
     "text": [
      "Generation 10 of 100. Train Loss: 17.0, Test Loss: 18.2.\n",
      "Generation 20 of 100. Train Loss: 22.7, Test Loss: 18.1.\n",
      "Generation 30 of 100. Train Loss: 20.2, Test Loss: 18.6.\n",
      "Generation 40 of 100. Train Loss: 25.2, Test Loss: 17.9.\n",
      "Generation 50 of 100. Train Loss: 17.8, Test Loss: 18.0.\n",
      "Generation 60 of 100. Train Loss: 19.8, Test Loss: 18.3.\n",
      "Generation 70 of 100. Train Loss: 17.9, Test Loss: 17.9.\n",
      "Generation 80 of 100. Train Loss: 21.1, Test Loss: 18.0.\n",
      "Generation 90 of 100. Train Loss: 19.3, Test Loss: 17.9.\n",
      "Generation 100 of 100. Train Loss: 20.9, Test Loss: 18.1.\n"
     ]
    }
   ],
   "source": [
    "for i in range(generations):\n",
    "    batch_indices = np.random.choice(len(x_data_train), size=batch_size)\n",
    "    x_batch = x_data_train[batch_indices]\n",
    "    y_batch = y_data_train[batch_indices]\n",
    "    _, train_loss, summary = sess.run([train_step, l2_loss, summary_op],\n",
    "                             feed_dict={x_graph_input: x_batch,\n",
    "                                        y_graph_input: y_batch})\n",
    "    test_loss, test_resids = sess.run([l2_loss, residuals], feed_dict={x_graph_input: x_data_test,\n",
    "                                                                       y_graph_input: y_data_test})\n",
    "    if (i+1)%10==0:\n",
    "        print('Generation {} of {}. Train Loss: {:.3}, Test Loss: {:.3}.'.format(i+1, generations, train_loss, test_loss))\n",
    "    log_writer = tf.summary.FileWriter('tensorboard')\n",
    "    log_writer.add_summary(summary, i)\n",
    "    time.sleep(0.5)"
   ]
  },
  {
   "cell_type": "code",
   "execution_count": 11,
   "metadata": {},
   "outputs": [],
   "source": [
    "def gen_linear_plot(slope):\n",
    "    linear_prediction = x_data * slope\n",
    "    plt.plot(x_data, y_data, 'b.', label='data')\n",
    "    plt.plot(x_data, linear_prediction, 'r-', linewidth=3, label='predicted line')\n",
    "    plt.legend(loc='upper left')\n",
    "    buf = io.BytesIO()\n",
    "    plt.savefig(buf, format='png')\n",
    "    buf.seek(0)\n",
    "    return(buf)"
   ]
  },
  {
   "cell_type": "code",
   "execution_count": 12,
   "metadata": {},
   "outputs": [],
   "source": [
    "slope = sess.run(m)\n",
    "plot_buf = gen_linear_plot(slope[0])\n",
    "image = tf.image.decode_png(plot_buf.getvalue(), channels=4)\n",
    "image = tf.expand_dims(image, 0)\n",
    "image_summary_op = tf.summary.image(\"Linear_Plot\", image)\n",
    "image_summary = sess.run(image_summary_op)\n",
    "log_writer.add_summary(image_summary, i)\n",
    "log_writer.close()"
   ]
  },
  {
   "cell_type": "code",
   "execution_count": null,
   "metadata": {},
   "outputs": [],
   "source": []
  }
 ],
 "metadata": {
  "kernelspec": {
   "display_name": "Python 3",
   "language": "python",
   "name": "python3"
  },
  "language_info": {
   "codemirror_mode": {
    "name": "ipython",
    "version": 3
   },
   "file_extension": ".py",
   "mimetype": "text/x-python",
   "name": "python",
   "nbconvert_exporter": "python",
   "pygments_lexer": "ipython3",
   "version": "3.5.0"
  }
 },
 "nbformat": 4,
 "nbformat_minor": 2
}
