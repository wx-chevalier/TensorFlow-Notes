{
 "cells": [
  {
   "cell_type": "code",
   "execution_count": 1,
   "metadata": {},
   "outputs": [],
   "source": [
    "import tensorflow as tf\n",
    "import matplotlib.pyplot as plt\n",
    "import numpy as np\n",
    "import random\n",
    "import os\n",
    "import pickle\n",
    "import string\n",
    "import requests\n",
    "import collections\n",
    "import io\n",
    "import tarfile\n",
    "import urllib.request\n",
    "from nltk.corpus import stopwords\n",
    "from tensorflow.python.framework import ops\n",
    "ops.reset_default_graph()\n",
    "import text_helpers\n",
    "sess = tf.Session()"
   ]
  },
  {
   "cell_type": "code",
   "execution_count": 2,
   "metadata": {},
   "outputs": [],
   "source": [
    "data_folder_name = 'temp'\n",
    "if not os.path.exists(data_folder_name):\n",
    "    os.makedirs(data_folder_name)"
   ]
  },
  {
   "cell_type": "code",
   "execution_count": 3,
   "metadata": {},
   "outputs": [],
   "source": [
    "batch_size = 200\n",
    "embedding_size = 50\n",
    "vocabulary_size = 2000\n",
    "generations = 50000\n",
    "model_learning_rate = 0.05\n",
    "num_sampled = int(batch_size/2)\n",
    "window_size = 3\n",
    "save_embeddings_every = 5000\n",
    "print_valid_every = 5000\n",
    "print_loss_every = 1000\n",
    "stops = stopwords.words('english')\n",
    "valid_words = ['love', 'hate', 'happy', 'sad', 'man', 'woman']"
   ]
  },
  {
   "cell_type": "code",
   "execution_count": 4,
   "metadata": {},
   "outputs": [],
   "source": [
    "texts, target = text_helpers.load_movie_data()\n",
    "texts = text_helpers.normalize_text(texts, stops)\n",
    "target = [target[ix] for ix, x in enumerate(texts) if len(x.split()) > 2]\n",
    "texts = [x for x in texts if len(x.split()) > 2]"
   ]
  },
  {
   "cell_type": "code",
   "execution_count": 5,
   "metadata": {},
   "outputs": [],
   "source": [
    "word_dictionary = text_helpers.build_dictionary(texts, vocabulary_size)\n",
    "word_dictionary_rev = dict(zip(word_dictionary.values(), word_dictionary.keys()))\n",
    "text_data = text_helpers.text_to_numbers(texts, word_dictionary)\n",
    "valid_examples = [word_dictionary[x] for x in valid_words]"
   ]
  },
  {
   "cell_type": "code",
   "execution_count": 6,
   "metadata": {},
   "outputs": [],
   "source": [
    "embeddings = tf.Variable(tf.random_uniform([vocabulary_size, embedding_size], -1.0, 1.0))\n",
    "x_inputs = tf.placeholder(tf.int32, shape=[batch_size, 2*window_size])\n",
    "y_target = tf.placeholder(tf.int32, shape=[batch_size, 1])\n",
    "valid_dataset = tf.constant(valid_examples, dtype=tf.int32)"
   ]
  },
  {
   "cell_type": "code",
   "execution_count": 7,
   "metadata": {},
   "outputs": [],
   "source": [
    "embed = tf.zeros([batch_size, embedding_size])\n",
    "for element in range(2*window_size):\n",
    "    embed += tf.nn.embedding_lookup(embeddings, x_inputs[:, element])"
   ]
  },
  {
   "cell_type": "code",
   "execution_count": 8,
   "metadata": {},
   "outputs": [],
   "source": [
    "nce_weights = tf.Variable(tf.truncated_normal([vocabulary_size, embedding_size],\n",
    "                                               stddev=1.0 / np.sqrt(embedding_size)))\n",
    "nce_biases = tf.Variable(tf.zeros([vocabulary_size]))\n",
    "loss = tf.reduce_mean(tf.nn.nce_loss(weights=nce_weights,\n",
    "                                     biases=nce_biases,\n",
    "                                     labels=y_target,\n",
    "                                     inputs=embed,\n",
    "                                     num_sampled=num_sampled,\n",
    "                                     num_classes=vocabulary_size))"
   ]
  },
  {
   "cell_type": "code",
   "execution_count": 9,
   "metadata": {},
   "outputs": [],
   "source": [
    "norm = tf.sqrt(tf.reduce_sum(tf.square(embeddings), 1, keepdims=True))\n",
    "normalized_embeddings = embeddings / norm\n",
    "valid_embeddings = tf.nn.embedding_lookup(normalized_embeddings, valid_dataset)\n",
    "similarity = tf.matmul(valid_embeddings, normalized_embeddings, transpose_b=True)"
   ]
  },
  {
   "cell_type": "code",
   "execution_count": 10,
   "metadata": {},
   "outputs": [],
   "source": [
    "saver = tf.train.Saver({\"embeddings\": embeddings})"
   ]
  },
  {
   "cell_type": "code",
   "execution_count": 11,
   "metadata": {},
   "outputs": [],
   "source": [
    "optimizer = tf.train.GradientDescentOptimizer(learning_rate=model_learning_rate).minimize(loss)\n",
    "init = tf.global_variables_initializer()\n",
    "sess.run(init)"
   ]
  },
  {
   "cell_type": "code",
   "execution_count": 12,
   "metadata": {},
   "outputs": [
    {
     "name": "stdout",
     "output_type": "stream",
     "text": [
      "Loss at step 1000 : 8.026020050048828\n",
      "Loss at step 2000 : 6.135557174682617\n",
      "Loss at step 3000 : 6.0761189460754395\n",
      "Loss at step 4000 : 5.532122611999512\n",
      "Loss at step 5000 : 5.158099174499512\n",
      "Nearest to love: powerful, formula, kids, madness, extremely,\n",
      "Nearest to hate: complex, country, angst, alabama, tv,\n",
      "Nearest to happy: manages, potential, deep, much, unfolds,\n",
      "Nearest to sad: wrong, classic, best, wont, guns,\n",
      "Nearest to man: young, trying, offers, didnt, madness,\n",
      "Nearest to woman: hits, average, martin, computer, stuff,\n",
      "Model saved in file: C:\\TensorFlow for Neural Network Solutions\\Section 2\\temp\\cbow_movie_embeddings.ckpt\n",
      "Loss at step 6000 : 5.214013576507568\n",
      "Loss at step 7000 : 4.8917036056518555\n",
      "Loss at step 8000 : 4.561053276062012\n",
      "Loss at step 9000 : 4.625123977661133\n",
      "Loss at step 10000 : 4.675836563110352\n",
      "Nearest to love: powerful, formula, kids, falls, extremely,\n",
      "Nearest to hate: complex, country, angst, alabama, tv,\n",
      "Nearest to happy: manages, potential, deep, much, unfolds,\n",
      "Nearest to sad: wrong, classic, best, commercial, wont,\n",
      "Nearest to man: young, trying, didnt, offers, sound,\n",
      "Nearest to woman: hits, average, martin, stuff, computer,\n",
      "Model saved in file: C:\\TensorFlow for Neural Network Solutions\\Section 2\\temp\\cbow_movie_embeddings.ckpt\n",
      "Loss at step 11000 : 4.49984884262085\n",
      "Loss at step 12000 : 4.5308518409729\n",
      "Loss at step 13000 : 4.651686191558838\n",
      "Loss at step 14000 : 4.659727573394775\n",
      "Loss at step 15000 : 4.221022129058838\n",
      "Nearest to love: powerful, formula, falls, lacks, drag,\n",
      "Nearest to hate: complex, country, angst, alabama, tv,\n",
      "Nearest to happy: manages, potential, deep, much, unfolds,\n",
      "Nearest to sad: wrong, classic, commercial, best, guns,\n",
      "Nearest to man: sound, young, didnt, trying, offers,\n",
      "Nearest to woman: hits, average, martin, stuff, computer,\n",
      "Model saved in file: C:\\TensorFlow for Neural Network Solutions\\Section 2\\temp\\cbow_movie_embeddings.ckpt\n",
      "Loss at step 16000 : 4.246509552001953\n",
      "Loss at step 17000 : 4.287783145904541\n",
      "Loss at step 18000 : 4.530786991119385\n",
      "Loss at step 19000 : 4.287862777709961\n",
      "Loss at step 20000 : 4.353023529052734\n",
      "Nearest to love: powerful, formula, falls, lacks, drag,\n",
      "Nearest to hate: complex, country, angst, alabama, tv,\n",
      "Nearest to happy: manages, potential, deep, much, unfolds,\n",
      "Nearest to sad: wrong, classic, guns, commercial, best,\n",
      "Nearest to man: sound, didnt, young, trying, offers,\n",
      "Nearest to woman: hits, average, martin, stuff, computer,\n",
      "Model saved in file: C:\\TensorFlow for Neural Network Solutions\\Section 2\\temp\\cbow_movie_embeddings.ckpt\n",
      "Loss at step 21000 : 4.2581467628479\n",
      "Loss at step 22000 : 4.3575358390808105\n",
      "Loss at step 23000 : 4.416917324066162\n",
      "Loss at step 24000 : 4.070498466491699\n",
      "Loss at step 25000 : 3.998526096343994\n",
      "Nearest to love: powerful, formula, falls, lacks, drag,\n",
      "Nearest to hate: complex, country, angst, alabama, tv,\n",
      "Nearest to happy: manages, potential, deep, much, unfolds,\n",
      "Nearest to sad: wrong, classic, guns, commercial, foreign,\n",
      "Nearest to man: sound, didnt, young, existence, trying,\n",
      "Nearest to woman: hits, average, martin, stuff, computer,\n",
      "Model saved in file: C:\\TensorFlow for Neural Network Solutions\\Section 2\\temp\\cbow_movie_embeddings.ckpt\n",
      "Loss at step 26000 : 4.265962600708008\n",
      "Loss at step 27000 : 4.197296619415283\n",
      "Loss at step 28000 : 3.83856201171875\n",
      "Loss at step 29000 : 4.34152889251709\n",
      "Loss at step 30000 : 3.908686876296997\n",
      "Nearest to love: powerful, formula, lacks, falls, john,\n",
      "Nearest to hate: complex, country, angst, alabama, tv,\n",
      "Nearest to happy: manages, potential, deep, much, unfolds,\n",
      "Nearest to sad: wrong, guns, classic, commercial, foreign,\n",
      "Nearest to man: sound, didnt, existence, young, trying,\n",
      "Nearest to woman: hits, average, martin, computer, stuff,\n",
      "Model saved in file: C:\\TensorFlow for Neural Network Solutions\\Section 2\\temp\\cbow_movie_embeddings.ckpt\n",
      "Loss at step 31000 : 4.066475868225098\n",
      "Loss at step 32000 : 4.168375015258789\n",
      "Loss at step 33000 : 3.9477345943450928\n",
      "Loss at step 34000 : 4.149229049682617\n",
      "Loss at step 35000 : 4.1178879737854\n",
      "Nearest to love: powerful, formula, lacks, falls, john,\n",
      "Nearest to hate: complex, country, angst, alabama, tv,\n",
      "Nearest to happy: manages, potential, deep, much, unfolds,\n",
      "Nearest to sad: wrong, guns, classic, foreign, commercial,\n",
      "Nearest to man: sound, existence, didnt, young, cloying,\n",
      "Nearest to woman: hits, average, martin, computer, stuff,\n",
      "Model saved in file: C:\\TensorFlow for Neural Network Solutions\\Section 2\\temp\\cbow_movie_embeddings.ckpt\n",
      "Loss at step 36000 : 4.079739093780518\n",
      "Loss at step 37000 : 3.7709057331085205\n",
      "Loss at step 38000 : 4.012292385101318\n",
      "Loss at step 39000 : 3.9270987510681152\n",
      "Loss at step 40000 : 3.9912519454956055\n",
      "Nearest to love: powerful, formula, lacks, falls, john,\n",
      "Nearest to hate: complex, country, angst, alabama, tv,\n",
      "Nearest to happy: manages, potential, deep, much, unfolds,\n",
      "Nearest to sad: wrong, guns, classic, foreign, commercial,\n",
      "Nearest to man: sound, existence, didnt, young, cloying,\n",
      "Nearest to woman: hits, average, martin, computer, stuff,\n",
      "Model saved in file: C:\\TensorFlow for Neural Network Solutions\\Section 2\\temp\\cbow_movie_embeddings.ckpt\n",
      "Loss at step 41000 : 3.680509090423584\n",
      "Loss at step 42000 : 3.8591766357421875\n",
      "Loss at step 43000 : 3.9594671726226807\n",
      "Loss at step 44000 : 3.9211723804473877\n",
      "Loss at step 45000 : 3.838641881942749\n",
      "Nearest to love: powerful, formula, lacks, falls, john,\n",
      "Nearest to hate: complex, angst, country, alabama, tv,\n",
      "Nearest to happy: manages, potential, deep, much, unfolds,\n",
      "Nearest to sad: wrong, guns, foreign, classic, windtalkers,\n",
      "Nearest to man: sound, existence, didnt, young, cloying,\n",
      "Nearest to woman: hits, martin, average, computer, stuff,\n",
      "Model saved in file: C:\\TensorFlow for Neural Network Solutions\\Section 2\\temp\\cbow_movie_embeddings.ckpt\n",
      "Loss at step 46000 : 3.786912202835083\n",
      "Loss at step 47000 : 3.9511754512786865\n",
      "Loss at step 48000 : 4.208501815795898\n",
      "Loss at step 49000 : 3.8080947399139404\n",
      "Loss at step 50000 : 3.8090484142303467\n",
      "Nearest to love: powerful, formula, lacks, falls, john,\n",
      "Nearest to hate: complex, angst, country, alabama, tv,\n",
      "Nearest to happy: manages, potential, deep, much, unfolds,\n",
      "Nearest to sad: wrong, guns, foreign, classic, windtalkers,\n",
      "Nearest to man: sound, existence, didnt, young, honest,\n",
      "Nearest to woman: hits, martin, average, computer, stuff,\n",
      "Model saved in file: C:\\TensorFlow for Neural Network Solutions\\Section 2\\temp\\cbow_movie_embeddings.ckpt\n"
     ]
    }
   ],
   "source": [
    "text_data = [x for x in text_data if len(x)>=(2*window_size+1)]\n",
    "loss_vec = []\n",
    "loss_x_vec = []\n",
    "for i in range(generations):\n",
    "    batch_inputs, batch_labels = text_helpers.generate_batch_data(text_data, batch_size,\n",
    "                                                                  window_size, method='cbow')\n",
    "    feed_dict = {x_inputs : batch_inputs, y_target : batch_labels}\n",
    "    sess.run(optimizer, feed_dict=feed_dict)\n",
    "    if (i+1) % print_loss_every == 0:\n",
    "        loss_val = sess.run(loss, feed_dict=feed_dict)\n",
    "        loss_vec.append(loss_val)\n",
    "        loss_x_vec.append(i+1)\n",
    "        print('Loss at step {} : {}'.format(i+1, loss_val))\n",
    "    if (i+1) % print_valid_every == 0:\n",
    "        sim = sess.run(similarity, feed_dict=feed_dict)\n",
    "        for j in range(len(valid_words)):\n",
    "            valid_word = word_dictionary_rev[valid_examples[j]]\n",
    "            top_k = 5\n",
    "            nearest = (-sim[j, :]).argsort()[1:top_k+1]\n",
    "            log_str = \"Nearest to {}:\".format(valid_word)\n",
    "            for k in range(top_k):\n",
    "                close_word = word_dictionary_rev[nearest[k]]\n",
    "                log_str = '{} {},' .format(log_str, close_word)\n",
    "            print(log_str)\n",
    "    if (i+1) % save_embeddings_every == 0:\n",
    "        with open(os.path.join(data_folder_name,'movie_vocab.pkl'), 'wb') as f:\n",
    "            pickle.dump(word_dictionary, f)\n",
    "        model_checkpoint_path = os.path.join(os.getcwd(),data_folder_name,'cbow_movie_embeddings.ckpt')\n",
    "        save_path = saver.save(sess, model_checkpoint_path)\n",
    "        print('Model saved in file: {}'.format(save_path))"
   ]
  },
  {
   "cell_type": "code",
   "execution_count": null,
   "metadata": {},
   "outputs": [],
   "source": []
  }
 ],
 "metadata": {
  "kernelspec": {
   "display_name": "Python 3",
   "language": "python",
   "name": "python3"
  },
  "language_info": {
   "codemirror_mode": {
    "name": "ipython",
    "version": 3
   },
   "file_extension": ".py",
   "mimetype": "text/x-python",
   "name": "python",
   "nbconvert_exporter": "python",
   "pygments_lexer": "ipython3",
   "version": "3.5.0"
  }
 },
 "nbformat": 4,
 "nbformat_minor": 2
}
