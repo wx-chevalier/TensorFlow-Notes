{
  "nbformat": 4,
  "nbformat_minor": 0,
  "metadata": {
    "colab": {
      "name": "Cifar2",
      "provenance": [],
      "toc_visible": true
    },
    "kernelspec": {
      "name": "python3",
      "display_name": "Python 3"
    }
  },
  "cells": [
    {
      "cell_type": "markdown",
      "metadata": {
        "id": "8uiKiByY1MRr"
      },
      "source": [
        "# 图片数据建模\n",
        "\n",
        "cifar2 数据集为 cifar10 数据集的子集，只包括前两种类别 airplane 和 automobile。训练集有airplane 和 automobile 图片各5000张，测试集有 airplane 和 automobile 图片各1000张。cifar2任务的目标是训练一个模型来对飞机airplane和机动车automobile两种图片进行分类。\n",
        "\n",
        "在 Tensorflow 中准备图片数据的常用方案有两种：\n",
        "\n",
        "- 第一种是使用 tf.keras 中的 ImageDataGenerator 工具构建图片数据生成器。\n",
        "\n",
        "- 第二种是使用 tf.data.Dataset 搭配 tf.image 中的一些图片处理方法构建数据管道。"
      ]
    },
    {
      "cell_type": "code",
      "metadata": {
        "id": "QuBOuttWeigI",
        "outputId": "e3f47bd8-50d5-4335-a09b-edc8b449741c",
        "colab": {
          "base_uri": "https://localhost:8080/",
          "height": 34
        }
      },
      "source": [
        "# 下载图片\n",
        "import pathlib\n",
        "data_root_orig = tf.keras.utils.get_file(\n",
        "    origin='https://www.cs.toronto.edu/~kriz/cifar-10-python.tar.gz',\n",
        "    fname='cifar-10-batches-py', \n",
        "    untar=True,\n",
        "    )\n",
        "\n",
        "data_root = pathlib.Path(data_root_orig)\n",
        "print(data_root)"
      ],
      "execution_count": null,
      "outputs": [
        {
          "output_type": "stream",
          "text": [
            "/root/.keras/datasets/cifar-10-batches-py\n"
          ],
          "name": "stdout"
        }
      ]
    },
    {
      "cell_type": "code",
      "metadata": {
        "id": "R8eQUgMgguGQ",
        "outputId": "b0f06b45-ad7e-426f-ae82-c22cdab63cb3",
        "colab": {
          "base_uri": "https://localhost:8080/",
          "height": 119
        }
      },
      "source": [
        "!ls /root/.keras/datasets/cifar-10-batches-py\n",
        "\n",
        "!mkdir \"test\"\n",
        "\n",
        "!mkdir \"train\""
      ],
      "execution_count": 4,
      "outputs": [
        {
          "output_type": "stream",
          "text": [
            "batches.meta  data_batch_2  data_batch_4  readme.html\n",
            "data_batch_1  data_batch_3  data_batch_5  test_batch\n",
            "mkdir: cannot create directory ‘test’: File exists\n",
            "0\n",
            "mkdir: cannot create directory ‘train’: File exists\n",
            "0\n"
          ],
          "name": "stdout"
        }
      ]
    },
    {
      "cell_type": "code",
      "metadata": {
        "id": "Feo5K6eNgc0b",
        "outputId": "f6dbfdba-65b7-4839-de19-7dfd65cb1444",
        "colab": {
          "base_uri": "https://localhost:8080/",
          "height": 221
        }
      },
      "source": [
        "# 转化为图片\n",
        "from keras.preprocessing.image import save_img\n",
        "import numpy as np\n",
        "import pickle\n",
        "\n",
        "# 解压缩，返回解压后的字典\n",
        "def unpickle(file):\n",
        "    fo = open(file, 'rb')\n",
        "    dict = pickle.load(fo, encoding='latin1')\n",
        "    fo.close()\n",
        "    return dict\n",
        "\n",
        "# 生成训练集图片，如果需要png格式，只需要改图片后缀名即可。\n",
        "for j in range(1, 6):\n",
        "    dataName = \"/root/.keras/datasets/cifar-10-batches-py/data_batch_\" + str(j)  # 读取当前目录下的data_batch12345文件，dataName其实也是data_batch文件的路径，本文和脚本文件在同一目录下。\n",
        "    Xtr = unpickle(dataName)\n",
        "    print(dataName + \" is loading...\")\n",
        "\n",
        "    for i in range(0, 10000):\n",
        "        img = np.reshape(Xtr['data'][i], (3, 32, 32))  # Xtr['data']为图片二进制数据\n",
        "        img = img.transpose(1, 2, 0)  # 读取image\n",
        "        picName = 'train/' + str(Xtr['labels'][i]) + '_' + str(i + (j - 1)*10000) + '.jpg'  # Xtr['labels']为图片的标签，值范围0-9，本文中，train文件夹需要存在，并与脚本文件在同一目录下。\n",
        "        save_img(picName, img)\n",
        "    print(dataName + \" loaded.\")\n",
        "\n",
        "print(\"test_batch is loading...\")\n",
        "\n",
        "# 生成测试集图片\n",
        "testXtr = unpickle(\"/root/.keras/datasets/cifar-10-batches-py/test_batch\")\n",
        "for i in range(0, 10000):\n",
        "    img = np.reshape(testXtr['data'][i], (3, 32, 32))\n",
        "    img = img.transpose(1, 2, 0)\n",
        "    picName = 'test/' + str(testXtr['labels'][i]) + '_' + str(i) + '.jpg'\n",
        "    save_img(picName, img)\n",
        "    \n",
        "print(\"test_batch loaded.\")"
      ],
      "execution_count": null,
      "outputs": [
        {
          "output_type": "stream",
          "text": [
            "/root/.keras/datasets/cifar-10-batches-py/data_batch_1 is loading...\n",
            "/root/.keras/datasets/cifar-10-batches-py/data_batch_1 loaded.\n",
            "/root/.keras/datasets/cifar-10-batches-py/data_batch_2 is loading...\n",
            "/root/.keras/datasets/cifar-10-batches-py/data_batch_2 loaded.\n",
            "/root/.keras/datasets/cifar-10-batches-py/data_batch_3 is loading...\n",
            "/root/.keras/datasets/cifar-10-batches-py/data_batch_3 loaded.\n",
            "/root/.keras/datasets/cifar-10-batches-py/data_batch_4 is loading...\n",
            "/root/.keras/datasets/cifar-10-batches-py/data_batch_4 loaded.\n",
            "/root/.keras/datasets/cifar-10-batches-py/data_batch_5 is loading...\n",
            "/root/.keras/datasets/cifar-10-batches-py/data_batch_5 loaded.\n",
            "test_batch is loading...\n",
            "test_batch loaded.\n"
          ],
          "name": "stdout"
        }
      ]
    },
    {
      "cell_type": "code",
      "metadata": {
        "id": "mjIq1Stlj8F0",
        "outputId": "b89bf3de-0cde-4784-c590-962a2ad483cc",
        "colab": {
          "base_uri": "https://localhost:8080/",
          "height": 85
        }
      },
      "source": [
        "!echo \"train: \"\n",
        "!ls train | wc -l\n",
        "!echo \"test: \"\n",
        "!ls test | wc -l"
      ],
      "execution_count": 5,
      "outputs": [
        {
          "output_type": "stream",
          "text": [
            "train: \n",
            "45000\n",
            "test: \n",
            "10000\n"
          ],
          "name": "stdout"
        }
      ]
    },
    {
      "cell_type": "code",
      "metadata": {
        "id": "2gQOLjaTdzab",
        "outputId": "09ce4419-f97d-43a7-ded0-0680fdc595f4",
        "colab": {
          "base_uri": "https://localhost:8080/",
          "height": 68
        }
      },
      "source": [
        "import tensorflow as tf \n",
        "from tensorflow.keras import datasets,layers,models\n",
        "\n",
        "BATCH_SIZE = 100\n",
        "\n",
        "def load_image(img_path,size = (32,32)):\n",
        "    label = tf.constant(1,tf.int8) if tf.strings.regex_full_match(img_path,\"1_*\") \\\n",
        "            else tf.constant(0,tf.int8)\n",
        "    img = tf.io.read_file(img_path)\n",
        "    img = tf.image.decode_jpeg(img) # 注意此处为 jpeg 格式\n",
        "    img = tf.image.resize(img,size)/255.0\n",
        "    return(img,label)\n",
        "\n",
        "def filter_image(img_path):\n",
        "    print(img_path)\n",
        "    if tf.strings.regex_full_match(img_path,\"0_*\") or tf.strings.regex_full_match(img_path,\"1_*\"):\n",
        "      return True\n",
        "    else:\n",
        "      return False\n",
        "\n",
        "# 使用并行化预处理 num_parallel_calls 和预存数据 prefetch 来提升性能\n",
        "ds_train_0 = tf.data.Dataset.list_files(\"./train/0*.jpg\") \\\n",
        "           .map(load_image, num_parallel_calls=tf.data.experimental.AUTOTUNE)\n",
        "ds_train_1 = tf.data.Dataset.list_files(\"./train/1*.jpg\") \\\n",
        "           .map(load_image, num_parallel_calls=tf.data.experimental.AUTOTUNE)\n",
        "\n",
        "ds_train = ds_train_1.concatenate(ds_train_0)\n",
        "print(ds_train.__len__())\n",
        "ds_train = ds_train.shuffle(buffer_size = 1000).batch(BATCH_SIZE).prefetch(tf.data.experimental.AUTOTUNE)\n",
        "\n",
        "ds_test_0 = tf.data.Dataset.list_files(\"./test/0*.jpg\") \\\n",
        "           .map(load_image, num_parallel_calls=tf.data.experimental.AUTOTUNE)\n",
        "ds_test_1 = tf.data.Dataset.list_files(\"./test/1*.jpg\") \\\n",
        "           .map(load_image, num_parallel_calls=tf.data.experimental.AUTOTUNE)\n",
        "\n",
        "ds_test = ds_test_1.concatenate(ds_test_0)\n",
        "print(ds_test.__len__())\n",
        "ds_test = ds_test.shuffle(buffer_size = 1000).batch(BATCH_SIZE).prefetch(tf.data.experimental.AUTOTUNE)  \n",
        "\n",
        "for x,y in ds_train.take(1):\n",
        "    print(x.shape, y.shape)"
      ],
      "execution_count": 51,
      "outputs": [
        {
          "output_type": "stream",
          "text": [
            "tf.Tensor(10000, shape=(), dtype=int64)\n",
            "tf.Tensor(2000, shape=(), dtype=int64)\n",
            "(100, 32, 32, 3) (100,)\n"
          ],
          "name": "stdout"
        }
      ]
    },
    {
      "cell_type": "code",
      "metadata": {
        "id": "tF2CcwFblWOv",
        "outputId": "5cebae1d-2b46-4240-cfb0-5e85f690e201",
        "colab": {
          "base_uri": "https://localhost:8080/",
          "height": 645
        }
      },
      "source": [
        "%matplotlib inline\n",
        "%config InlineBackend.figure_format = 'svg'\n",
        "\n",
        "#查看部分样本\n",
        "from matplotlib import pyplot as plt \n",
        "\n",
        "plt.figure(figsize=(8,8)) \n",
        "for i,(img,label) in enumerate(ds_train.unbatch().take(9)):\n",
        "    ax=plt.subplot(3,3,i+1)\n",
        "    ax.imshow(img.numpy())\n",
        "    ax.set_title(\"label = %d\"%label)\n",
        "    ax.set_xticks([])\n",
        "    ax.set_yticks([]) \n",
        "plt.show()"
      ],
      "execution_count": 39,
      "outputs": [
        {
          "output_type": "display_data",
          "data": {
            "text/plain": [
              "<Figure size 576x576 with 9 Axes>"
            ],
            "image/svg+xml": "<?xml version=\"1.0\" encoding=\"utf-8\" standalone=\"no\"?>\n<!DOCTYPE svg PUBLIC \"-//W3C//DTD SVG 1.1//EN\"\n  \"http://www.w3.org/Graphics/SVG/1.1/DTD/svg11.dtd\">\n<!-- Created with matplotlib (https://matplotlib.org/) -->\n<svg height=\"467.898125pt\" version=\"1.1\" viewBox=\"0 0 460.911765 467.898125\" width=\"460.911765pt\" xmlns=\"http://www.w3.org/2000/svg\" xmlns:xlink=\"http://www.w3.org/1999/xlink\">\n <defs>\n  <style type=\"text/css\">\n*{stroke-linecap:butt;stroke-linejoin:round;}\n  </style>\n </defs>\n <g id=\"figure_1\">\n  <g id=\"patch_1\">\n   <path d=\"M 0 467.898125 \nL 460.911765 467.898125 \nL 460.911765 0 \nL 0 0 \nz\n\" style=\"fill:none;\"/>\n  </g>\n  <g id=\"axes_1\">\n   <g id=\"patch_2\">\n    <path d=\"M 10.7 150.224007 \nL 138.605882 150.224007 \nL 138.605882 22.318125 \nL 10.7 22.318125 \nz\n\" style=\"fill:#ffffff;\"/>\n   </g>\n   <g clip-path=\"url(#p0e80eb5ca4)\">\n    <image height=\"128\" id=\"image69755cbeeb\" transform=\"scale(1 -1)translate(0 -128)\" width=\"128\" x=\"10.7\" xlink:href=\"data:image/png;base64,\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\" y=\"-22.224007\"/>\n   </g>\n   <g id=\"matplotlib.axis_1\"/>\n   <g id=\"matplotlib.axis_2\"/>\n   <g id=\"patch_3\">\n    <path d=\"M 10.7 150.224007 \nL 10.7 22.318125 \n\" style=\"fill:none;stroke:#000000;stroke-linecap:square;stroke-linejoin:miter;stroke-width:0.8;\"/>\n   </g>\n   <g id=\"patch_4\">\n    <path d=\"M 138.605882 150.224007 \nL 138.605882 22.318125 \n\" style=\"fill:none;stroke:#000000;stroke-linecap:square;stroke-linejoin:miter;stroke-width:0.8;\"/>\n   </g>\n   <g id=\"patch_5\">\n    <path d=\"M 10.7 150.224007 \nL 138.605882 150.224007 \n\" style=\"fill:none;stroke:#000000;stroke-linecap:square;stroke-linejoin:miter;stroke-width:0.8;\"/>\n   </g>\n   <g id=\"patch_6\">\n    <path d=\"M 10.7 22.318125 \nL 138.605882 22.318125 \n\" style=\"fill:none;stroke:#000000;stroke-linecap:square;stroke-linejoin:miter;stroke-width:0.8;\"/>\n   </g>\n   <g id=\"text_1\">\n    <!-- label = 0 -->\n    <defs>\n     <path d=\"M 9.421875 75.984375 \nL 18.40625 75.984375 \nL 18.40625 0 \nL 9.421875 0 \nz\n\" id=\"DejaVuSans-108\"/>\n     <path d=\"M 34.28125 27.484375 \nQ 23.390625 27.484375 19.1875 25 \nQ 14.984375 22.515625 14.984375 16.5 \nQ 14.984375 11.71875 18.140625 8.90625 \nQ 21.296875 6.109375 26.703125 6.109375 \nQ 34.1875 6.109375 38.703125 11.40625 \nQ 43.21875 16.703125 43.21875 25.484375 \nL 43.21875 27.484375 \nz\nM 52.203125 31.203125 \nL 52.203125 0 \nL 43.21875 0 \nL 43.21875 8.296875 \nQ 40.140625 3.328125 35.546875 0.953125 \nQ 30.953125 -1.421875 24.3125 -1.421875 \nQ 15.921875 -1.421875 10.953125 3.296875 \nQ 6 8.015625 6 15.921875 \nQ 6 25.140625 12.171875 29.828125 \nQ 18.359375 34.515625 30.609375 34.515625 \nL 43.21875 34.515625 \nL 43.21875 35.40625 \nQ 43.21875 41.609375 39.140625 45 \nQ 35.0625 48.390625 27.6875 48.390625 \nQ 23 48.390625 18.546875 47.265625 \nQ 14.109375 46.140625 10.015625 43.890625 \nL 10.015625 52.203125 \nQ 14.9375 54.109375 19.578125 55.046875 \nQ 24.21875 56 28.609375 56 \nQ 40.484375 56 46.34375 49.84375 \nQ 52.203125 43.703125 52.203125 31.203125 \nz\n\" id=\"DejaVuSans-97\"/>\n     <path d=\"M 48.6875 27.296875 \nQ 48.6875 37.203125 44.609375 42.84375 \nQ 40.53125 48.484375 33.40625 48.484375 \nQ 26.265625 48.484375 22.1875 42.84375 \nQ 18.109375 37.203125 18.109375 27.296875 \nQ 18.109375 17.390625 22.1875 11.75 \nQ 26.265625 6.109375 33.40625 6.109375 \nQ 40.53125 6.109375 44.609375 11.75 \nQ 48.6875 17.390625 48.6875 27.296875 \nz\nM 18.109375 46.390625 \nQ 20.953125 51.265625 25.265625 53.625 \nQ 29.59375 56 35.59375 56 \nQ 45.5625 56 51.78125 48.09375 \nQ 58.015625 40.1875 58.015625 27.296875 \nQ 58.015625 14.40625 51.78125 6.484375 \nQ 45.5625 -1.421875 35.59375 -1.421875 \nQ 29.59375 -1.421875 25.265625 0.953125 \nQ 20.953125 3.328125 18.109375 8.203125 \nL 18.109375 0 \nL 9.078125 0 \nL 9.078125 75.984375 \nL 18.109375 75.984375 \nz\n\" id=\"DejaVuSans-98\"/>\n     <path d=\"M 56.203125 29.59375 \nL 56.203125 25.203125 \nL 14.890625 25.203125 \nQ 15.484375 15.921875 20.484375 11.0625 \nQ 25.484375 6.203125 34.421875 6.203125 \nQ 39.59375 6.203125 44.453125 7.46875 \nQ 49.3125 8.734375 54.109375 11.28125 \nL 54.109375 2.78125 \nQ 49.265625 0.734375 44.1875 -0.34375 \nQ 39.109375 -1.421875 33.890625 -1.421875 \nQ 20.796875 -1.421875 13.15625 6.1875 \nQ 5.515625 13.8125 5.515625 26.8125 \nQ 5.515625 40.234375 12.765625 48.109375 \nQ 20.015625 56 32.328125 56 \nQ 43.359375 56 49.78125 48.890625 \nQ 56.203125 41.796875 56.203125 29.59375 \nz\nM 47.21875 32.234375 \nQ 47.125 39.59375 43.09375 43.984375 \nQ 39.0625 48.390625 32.421875 48.390625 \nQ 24.90625 48.390625 20.390625 44.140625 \nQ 15.875 39.890625 15.1875 32.171875 \nz\n\" id=\"DejaVuSans-101\"/>\n     <path id=\"DejaVuSans-32\"/>\n     <path d=\"M 10.59375 45.40625 \nL 73.1875 45.40625 \nL 73.1875 37.203125 \nL 10.59375 37.203125 \nz\nM 10.59375 25.484375 \nL 73.1875 25.484375 \nL 73.1875 17.1875 \nL 10.59375 17.1875 \nz\n\" id=\"DejaVuSans-61\"/>\n     <path d=\"M 31.78125 66.40625 \nQ 24.171875 66.40625 20.328125 58.90625 \nQ 16.5 51.421875 16.5 36.375 \nQ 16.5 21.390625 20.328125 13.890625 \nQ 24.171875 6.390625 31.78125 6.390625 \nQ 39.453125 6.390625 43.28125 13.890625 \nQ 47.125 21.390625 47.125 36.375 \nQ 47.125 51.421875 43.28125 58.90625 \nQ 39.453125 66.40625 31.78125 66.40625 \nz\nM 31.78125 74.21875 \nQ 44.046875 74.21875 50.515625 64.515625 \nQ 56.984375 54.828125 56.984375 36.375 \nQ 56.984375 17.96875 50.515625 8.265625 \nQ 44.046875 -1.421875 31.78125 -1.421875 \nQ 19.53125 -1.421875 13.0625 8.265625 \nQ 6.59375 17.96875 6.59375 36.375 \nQ 6.59375 54.828125 13.0625 64.515625 \nQ 19.53125 74.21875 31.78125 74.21875 \nz\n\" id=\"DejaVuSans-48\"/>\n    </defs>\n    <g transform=\"translate(47.482316 16.318125)scale(0.12 -0.12)\">\n     <use xlink:href=\"#DejaVuSans-108\"/>\n     <use x=\"27.783203\" xlink:href=\"#DejaVuSans-97\"/>\n     <use x=\"89.0625\" xlink:href=\"#DejaVuSans-98\"/>\n     <use x=\"152.539062\" xlink:href=\"#DejaVuSans-101\"/>\n     <use x=\"214.0625\" xlink:href=\"#DejaVuSans-108\"/>\n     <use x=\"241.845703\" xlink:href=\"#DejaVuSans-32\"/>\n     <use x=\"273.632812\" xlink:href=\"#DejaVuSans-61\"/>\n     <use x=\"357.421875\" xlink:href=\"#DejaVuSans-32\"/>\n     <use x=\"389.208984\" xlink:href=\"#DejaVuSans-48\"/>\n    </g>\n   </g>\n  </g>\n  <g id=\"axes_2\">\n   <g id=\"patch_7\">\n    <path d=\"M 168.252941 150.224007 \nL 296.158824 150.224007 \nL 296.158824 22.318125 \nL 168.252941 22.318125 \nz\n\" style=\"fill:#ffffff;\"/>\n   </g>\n   <g clip-path=\"url(#p0d3022ba8c)\">\n    <image height=\"128\" id=\"image6d82a5c826\" transform=\"scale(1 -1)translate(0 -128)\" width=\"128\" x=\"168.252941\" xlink:href=\"data:image/png;base64,\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\" y=\"-22.224007\"/>\n   </g>\n   <g id=\"matplotlib.axis_3\"/>\n   <g id=\"matplotlib.axis_4\"/>\n   <g id=\"patch_8\">\n    <path d=\"M 168.252941 150.224007 \nL 168.252941 22.318125 \n\" style=\"fill:none;stroke:#000000;stroke-linecap:square;stroke-linejoin:miter;stroke-width:0.8;\"/>\n   </g>\n   <g id=\"patch_9\">\n    <path d=\"M 296.158824 150.224007 \nL 296.158824 22.318125 \n\" style=\"fill:none;stroke:#000000;stroke-linecap:square;stroke-linejoin:miter;stroke-width:0.8;\"/>\n   </g>\n   <g id=\"patch_10\">\n    <path d=\"M 168.252941 150.224007 \nL 296.158824 150.224007 \n\" style=\"fill:none;stroke:#000000;stroke-linecap:square;stroke-linejoin:miter;stroke-width:0.8;\"/>\n   </g>\n   <g id=\"patch_11\">\n    <path d=\"M 168.252941 22.318125 \nL 296.158824 22.318125 \n\" style=\"fill:none;stroke:#000000;stroke-linecap:square;stroke-linejoin:miter;stroke-width:0.8;\"/>\n   </g>\n   <g id=\"text_2\">\n    <!-- label = 0 -->\n    <g transform=\"translate(205.035257 16.318125)scale(0.12 -0.12)\">\n     <use xlink:href=\"#DejaVuSans-108\"/>\n     <use x=\"27.783203\" xlink:href=\"#DejaVuSans-97\"/>\n     <use x=\"89.0625\" xlink:href=\"#DejaVuSans-98\"/>\n     <use x=\"152.539062\" xlink:href=\"#DejaVuSans-101\"/>\n     <use x=\"214.0625\" xlink:href=\"#DejaVuSans-108\"/>\n     <use x=\"241.845703\" xlink:href=\"#DejaVuSans-32\"/>\n     <use x=\"273.632812\" xlink:href=\"#DejaVuSans-61\"/>\n     <use x=\"357.421875\" xlink:href=\"#DejaVuSans-32\"/>\n     <use x=\"389.208984\" xlink:href=\"#DejaVuSans-48\"/>\n    </g>\n   </g>\n  </g>\n  <g id=\"axes_3\">\n   <g id=\"patch_12\">\n    <path d=\"M 325.805882 150.224007 \nL 453.711765 150.224007 \nL 453.711765 22.318125 \nL 325.805882 22.318125 \nz\n\" style=\"fill:#ffffff;\"/>\n   </g>\n   <g clip-path=\"url(#p33e8e4fb48)\">\n    <image height=\"128\" id=\"image34255d126e\" transform=\"scale(1 -1)translate(0 -128)\" width=\"128\" x=\"325.805882\" xlink:href=\"data:image/png;base64,\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\" y=\"-22.224007\"/>\n   </g>\n   <g id=\"matplotlib.axis_5\"/>\n   <g id=\"matplotlib.axis_6\"/>\n   <g id=\"patch_13\">\n    <path d=\"M 325.805882 150.224007 \nL 325.805882 22.318125 \n\" style=\"fill:none;stroke:#000000;stroke-linecap:square;stroke-linejoin:miter;stroke-width:0.8;\"/>\n   </g>\n   <g id=\"patch_14\">\n    <path d=\"M 453.711765 150.224007 \nL 453.711765 22.318125 \n\" style=\"fill:none;stroke:#000000;stroke-linecap:square;stroke-linejoin:miter;stroke-width:0.8;\"/>\n   </g>\n   <g id=\"patch_15\">\n    <path d=\"M 325.805882 150.224007 \nL 453.711765 150.224007 \n\" style=\"fill:none;stroke:#000000;stroke-linecap:square;stroke-linejoin:miter;stroke-width:0.8;\"/>\n   </g>\n   <g id=\"patch_16\">\n    <path d=\"M 325.805882 22.318125 \nL 453.711765 22.318125 \n\" style=\"fill:none;stroke:#000000;stroke-linecap:square;stroke-linejoin:miter;stroke-width:0.8;\"/>\n   </g>\n   <g id=\"text_3\">\n    <!-- label = 0 -->\n    <g transform=\"translate(362.588199 16.318125)scale(0.12 -0.12)\">\n     <use xlink:href=\"#DejaVuSans-108\"/>\n     <use x=\"27.783203\" xlink:href=\"#DejaVuSans-97\"/>\n     <use x=\"89.0625\" xlink:href=\"#DejaVuSans-98\"/>\n     <use x=\"152.539062\" xlink:href=\"#DejaVuSans-101\"/>\n     <use x=\"214.0625\" xlink:href=\"#DejaVuSans-108\"/>\n     <use x=\"241.845703\" xlink:href=\"#DejaVuSans-32\"/>\n     <use x=\"273.632812\" xlink:href=\"#DejaVuSans-61\"/>\n     <use x=\"357.421875\" xlink:href=\"#DejaVuSans-32\"/>\n     <use x=\"389.208984\" xlink:href=\"#DejaVuSans-48\"/>\n    </g>\n   </g>\n  </g>\n  <g id=\"axes_4\">\n   <g id=\"patch_17\">\n    <path d=\"M 10.7 303.711066 \nL 138.605882 303.711066 \nL 138.605882 175.805184 \nL 10.7 175.805184 \nz\n\" style=\"fill:#ffffff;\"/>\n   </g>\n   <g clip-path=\"url(#p36a5a6dbe6)\">\n    <image height=\"128\" id=\"image9589f423ad\" transform=\"scale(1 -1)translate(0 -128)\" width=\"128\" x=\"10.7\" xlink:href=\"data:image/png;base64,\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\" y=\"-175.711066\"/>\n   </g>\n   <g id=\"matplotlib.axis_7\"/>\n   <g id=\"matplotlib.axis_8\"/>\n   <g id=\"patch_18\">\n    <path d=\"M 10.7 303.711066 \nL 10.7 175.805184 \n\" style=\"fill:none;stroke:#000000;stroke-linecap:square;stroke-linejoin:miter;stroke-width:0.8;\"/>\n   </g>\n   <g id=\"patch_19\">\n    <path d=\"M 138.605882 303.711066 \nL 138.605882 175.805184 \n\" style=\"fill:none;stroke:#000000;stroke-linecap:square;stroke-linejoin:miter;stroke-width:0.8;\"/>\n   </g>\n   <g id=\"patch_20\">\n    <path d=\"M 10.7 303.711066 \nL 138.605882 303.711066 \n\" style=\"fill:none;stroke:#000000;stroke-linecap:square;stroke-linejoin:miter;stroke-width:0.8;\"/>\n   </g>\n   <g id=\"patch_21\">\n    <path d=\"M 10.7 175.805184 \nL 138.605882 175.805184 \n\" style=\"fill:none;stroke:#000000;stroke-linecap:square;stroke-linejoin:miter;stroke-width:0.8;\"/>\n   </g>\n   <g id=\"text_4\">\n    <!-- label = 0 -->\n    <g transform=\"translate(47.482316 169.805184)scale(0.12 -0.12)\">\n     <use xlink:href=\"#DejaVuSans-108\"/>\n     <use x=\"27.783203\" xlink:href=\"#DejaVuSans-97\"/>\n     <use x=\"89.0625\" xlink:href=\"#DejaVuSans-98\"/>\n     <use x=\"152.539062\" xlink:href=\"#DejaVuSans-101\"/>\n     <use x=\"214.0625\" xlink:href=\"#DejaVuSans-108\"/>\n     <use x=\"241.845703\" xlink:href=\"#DejaVuSans-32\"/>\n     <use x=\"273.632812\" xlink:href=\"#DejaVuSans-61\"/>\n     <use x=\"357.421875\" xlink:href=\"#DejaVuSans-32\"/>\n     <use x=\"389.208984\" xlink:href=\"#DejaVuSans-48\"/>\n    </g>\n   </g>\n  </g>\n  <g id=\"axes_5\">\n   <g id=\"patch_22\">\n    <path d=\"M 168.252941 303.711066 \nL 296.158824 303.711066 \nL 296.158824 175.805184 \nL 168.252941 175.805184 \nz\n\" style=\"fill:#ffffff;\"/>\n   </g>\n   <g clip-path=\"url(#pba05270d19)\">\n    <image height=\"128\" id=\"image5b012afacf\" transform=\"scale(1 -1)translate(0 -128)\" width=\"128\" x=\"168.252941\" xlink:href=\"data:image/png;base64,\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\" y=\"-175.711066\"/>\n   </g>\n   <g id=\"matplotlib.axis_9\"/>\n   <g id=\"matplotlib.axis_10\"/>\n   <g id=\"patch_23\">\n    <path d=\"M 168.252941 303.711066 \nL 168.252941 175.805184 \n\" style=\"fill:none;stroke:#000000;stroke-linecap:square;stroke-linejoin:miter;stroke-width:0.8;\"/>\n   </g>\n   <g id=\"patch_24\">\n    <path d=\"M 296.158824 303.711066 \nL 296.158824 175.805184 \n\" style=\"fill:none;stroke:#000000;stroke-linecap:square;stroke-linejoin:miter;stroke-width:0.8;\"/>\n   </g>\n   <g id=\"patch_25\">\n    <path d=\"M 168.252941 303.711066 \nL 296.158824 303.711066 \n\" style=\"fill:none;stroke:#000000;stroke-linecap:square;stroke-linejoin:miter;stroke-width:0.8;\"/>\n   </g>\n   <g id=\"patch_26\">\n    <path d=\"M 168.252941 175.805184 \nL 296.158824 175.805184 \n\" style=\"fill:none;stroke:#000000;stroke-linecap:square;stroke-linejoin:miter;stroke-width:0.8;\"/>\n   </g>\n   <g id=\"text_5\">\n    <!-- label = 0 -->\n    <g transform=\"translate(205.035257 169.805184)scale(0.12 -0.12)\">\n     <use xlink:href=\"#DejaVuSans-108\"/>\n     <use x=\"27.783203\" xlink:href=\"#DejaVuSans-97\"/>\n     <use x=\"89.0625\" xlink:href=\"#DejaVuSans-98\"/>\n     <use x=\"152.539062\" xlink:href=\"#DejaVuSans-101\"/>\n     <use x=\"214.0625\" xlink:href=\"#DejaVuSans-108\"/>\n     <use x=\"241.845703\" xlink:href=\"#DejaVuSans-32\"/>\n     <use x=\"273.632812\" xlink:href=\"#DejaVuSans-61\"/>\n     <use x=\"357.421875\" xlink:href=\"#DejaVuSans-32\"/>\n     <use x=\"389.208984\" xlink:href=\"#DejaVuSans-48\"/>\n    </g>\n   </g>\n  </g>\n  <g id=\"axes_6\">\n   <g id=\"patch_27\">\n    <path d=\"M 325.805882 303.711066 \nL 453.711765 303.711066 \nL 453.711765 175.805184 \nL 325.805882 175.805184 \nz\n\" style=\"fill:#ffffff;\"/>\n   </g>\n   <g clip-path=\"url(#p63e554253e)\">\n    <image height=\"128\" id=\"image08c74244c8\" transform=\"scale(1 -1)translate(0 -128)\" width=\"128\" x=\"325.805882\" xlink:href=\"data:image/png;base64,\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\" y=\"-175.711066\"/>\n   </g>\n   <g id=\"matplotlib.axis_11\"/>\n   <g id=\"matplotlib.axis_12\"/>\n   <g id=\"patch_28\">\n    <path d=\"M 325.805882 303.711066 \nL 325.805882 175.805184 \n\" style=\"fill:none;stroke:#000000;stroke-linecap:square;stroke-linejoin:miter;stroke-width:0.8;\"/>\n   </g>\n   <g id=\"patch_29\">\n    <path d=\"M 453.711765 303.711066 \nL 453.711765 175.805184 \n\" style=\"fill:none;stroke:#000000;stroke-linecap:square;stroke-linejoin:miter;stroke-width:0.8;\"/>\n   </g>\n   <g id=\"patch_30\">\n    <path d=\"M 325.805882 303.711066 \nL 453.711765 303.711066 \n\" style=\"fill:none;stroke:#000000;stroke-linecap:square;stroke-linejoin:miter;stroke-width:0.8;\"/>\n   </g>\n   <g id=\"patch_31\">\n    <path d=\"M 325.805882 175.805184 \nL 453.711765 175.805184 \n\" style=\"fill:none;stroke:#000000;stroke-linecap:square;stroke-linejoin:miter;stroke-width:0.8;\"/>\n   </g>\n   <g id=\"text_6\">\n    <!-- label = 0 -->\n    <g transform=\"translate(362.588199 169.805184)scale(0.12 -0.12)\">\n     <use xlink:href=\"#DejaVuSans-108\"/>\n     <use x=\"27.783203\" xlink:href=\"#DejaVuSans-97\"/>\n     <use x=\"89.0625\" xlink:href=\"#DejaVuSans-98\"/>\n     <use x=\"152.539062\" xlink:href=\"#DejaVuSans-101\"/>\n     <use x=\"214.0625\" xlink:href=\"#DejaVuSans-108\"/>\n     <use x=\"241.845703\" xlink:href=\"#DejaVuSans-32\"/>\n     <use x=\"273.632812\" xlink:href=\"#DejaVuSans-61\"/>\n     <use x=\"357.421875\" xlink:href=\"#DejaVuSans-32\"/>\n     <use x=\"389.208984\" xlink:href=\"#DejaVuSans-48\"/>\n    </g>\n   </g>\n  </g>\n  <g id=\"axes_7\">\n   <g id=\"patch_32\">\n    <path d=\"M 10.7 457.198125 \nL 138.605882 457.198125 \nL 138.605882 329.292243 \nL 10.7 329.292243 \nz\n\" style=\"fill:#ffffff;\"/>\n   </g>\n   <g clip-path=\"url(#pcbbf4f1212)\">\n    <image height=\"128\" id=\"image0da8a03424\" transform=\"scale(1 -1)translate(0 -128)\" width=\"128\" x=\"10.7\" xlink:href=\"data:image/png;base64,\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\" y=\"-329.198125\"/>\n   </g>\n   <g id=\"matplotlib.axis_13\"/>\n   <g id=\"matplotlib.axis_14\"/>\n   <g id=\"patch_33\">\n    <path d=\"M 10.7 457.198125 \nL 10.7 329.292243 \n\" style=\"fill:none;stroke:#000000;stroke-linecap:square;stroke-linejoin:miter;stroke-width:0.8;\"/>\n   </g>\n   <g id=\"patch_34\">\n    <path d=\"M 138.605882 457.198125 \nL 138.605882 329.292243 \n\" style=\"fill:none;stroke:#000000;stroke-linecap:square;stroke-linejoin:miter;stroke-width:0.8;\"/>\n   </g>\n   <g id=\"patch_35\">\n    <path d=\"M 10.7 457.198125 \nL 138.605882 457.198125 \n\" style=\"fill:none;stroke:#000000;stroke-linecap:square;stroke-linejoin:miter;stroke-width:0.8;\"/>\n   </g>\n   <g id=\"patch_36\">\n    <path d=\"M 10.7 329.292243 \nL 138.605882 329.292243 \n\" style=\"fill:none;stroke:#000000;stroke-linecap:square;stroke-linejoin:miter;stroke-width:0.8;\"/>\n   </g>\n   <g id=\"text_7\">\n    <!-- label = 0 -->\n    <g transform=\"translate(47.482316 323.292243)scale(0.12 -0.12)\">\n     <use xlink:href=\"#DejaVuSans-108\"/>\n     <use x=\"27.783203\" xlink:href=\"#DejaVuSans-97\"/>\n     <use x=\"89.0625\" xlink:href=\"#DejaVuSans-98\"/>\n     <use x=\"152.539062\" xlink:href=\"#DejaVuSans-101\"/>\n     <use x=\"214.0625\" xlink:href=\"#DejaVuSans-108\"/>\n     <use x=\"241.845703\" xlink:href=\"#DejaVuSans-32\"/>\n     <use x=\"273.632812\" xlink:href=\"#DejaVuSans-61\"/>\n     <use x=\"357.421875\" xlink:href=\"#DejaVuSans-32\"/>\n     <use x=\"389.208984\" xlink:href=\"#DejaVuSans-48\"/>\n    </g>\n   </g>\n  </g>\n  <g id=\"axes_8\">\n   <g id=\"patch_37\">\n    <path d=\"M 168.252941 457.198125 \nL 296.158824 457.198125 \nL 296.158824 329.292243 \nL 168.252941 329.292243 \nz\n\" style=\"fill:#ffffff;\"/>\n   </g>\n   <g clip-path=\"url(#pbb0fecde53)\">\n    <image height=\"128\" id=\"image68f7b26d90\" transform=\"scale(1 -1)translate(0 -128)\" width=\"128\" x=\"168.252941\" xlink:href=\"data:image/png;base64,\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\" y=\"-329.198125\"/>\n   </g>\n   <g id=\"matplotlib.axis_15\"/>\n   <g id=\"matplotlib.axis_16\"/>\n   <g id=\"patch_38\">\n    <path d=\"M 168.252941 457.198125 \nL 168.252941 329.292243 \n\" style=\"fill:none;stroke:#000000;stroke-linecap:square;stroke-linejoin:miter;stroke-width:0.8;\"/>\n   </g>\n   <g id=\"patch_39\">\n    <path d=\"M 296.158824 457.198125 \nL 296.158824 329.292243 \n\" style=\"fill:none;stroke:#000000;stroke-linecap:square;stroke-linejoin:miter;stroke-width:0.8;\"/>\n   </g>\n   <g id=\"patch_40\">\n    <path d=\"M 168.252941 457.198125 \nL 296.158824 457.198125 \n\" style=\"fill:none;stroke:#000000;stroke-linecap:square;stroke-linejoin:miter;stroke-width:0.8;\"/>\n   </g>\n   <g id=\"patch_41\">\n    <path d=\"M 168.252941 329.292243 \nL 296.158824 329.292243 \n\" style=\"fill:none;stroke:#000000;stroke-linecap:square;stroke-linejoin:miter;stroke-width:0.8;\"/>\n   </g>\n   <g id=\"text_8\">\n    <!-- label = 0 -->\n    <g transform=\"translate(205.035257 323.292243)scale(0.12 -0.12)\">\n     <use xlink:href=\"#DejaVuSans-108\"/>\n     <use x=\"27.783203\" xlink:href=\"#DejaVuSans-97\"/>\n     <use x=\"89.0625\" xlink:href=\"#DejaVuSans-98\"/>\n     <use x=\"152.539062\" xlink:href=\"#DejaVuSans-101\"/>\n     <use x=\"214.0625\" xlink:href=\"#DejaVuSans-108\"/>\n     <use x=\"241.845703\" xlink:href=\"#DejaVuSans-32\"/>\n     <use x=\"273.632812\" xlink:href=\"#DejaVuSans-61\"/>\n     <use x=\"357.421875\" xlink:href=\"#DejaVuSans-32\"/>\n     <use x=\"389.208984\" xlink:href=\"#DejaVuSans-48\"/>\n    </g>\n   </g>\n  </g>\n  <g id=\"axes_9\">\n   <g id=\"patch_42\">\n    <path d=\"M 325.805882 457.198125 \nL 453.711765 457.198125 \nL 453.711765 329.292243 \nL 325.805882 329.292243 \nz\n\" style=\"fill:#ffffff;\"/>\n   </g>\n   <g clip-path=\"url(#pe40e19f8ef)\">\n    <image height=\"128\" id=\"image40c365a7c2\" transform=\"scale(1 -1)translate(0 -128)\" width=\"128\" x=\"325.805882\" xlink:href=\"data:image/png;base64,\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\" y=\"-329.198125\"/>\n   </g>\n   <g id=\"matplotlib.axis_17\"/>\n   <g id=\"matplotlib.axis_18\"/>\n   <g id=\"patch_43\">\n    <path d=\"M 325.805882 457.198125 \nL 325.805882 329.292243 \n\" style=\"fill:none;stroke:#000000;stroke-linecap:square;stroke-linejoin:miter;stroke-width:0.8;\"/>\n   </g>\n   <g id=\"patch_44\">\n    <path d=\"M 453.711765 457.198125 \nL 453.711765 329.292243 \n\" style=\"fill:none;stroke:#000000;stroke-linecap:square;stroke-linejoin:miter;stroke-width:0.8;\"/>\n   </g>\n   <g id=\"patch_45\">\n    <path d=\"M 325.805882 457.198125 \nL 453.711765 457.198125 \n\" style=\"fill:none;stroke:#000000;stroke-linecap:square;stroke-linejoin:miter;stroke-width:0.8;\"/>\n   </g>\n   <g id=\"patch_46\">\n    <path d=\"M 325.805882 329.292243 \nL 453.711765 329.292243 \n\" style=\"fill:none;stroke:#000000;stroke-linecap:square;stroke-linejoin:miter;stroke-width:0.8;\"/>\n   </g>\n   <g id=\"text_9\">\n    <!-- label = 0 -->\n    <g transform=\"translate(362.588199 323.292243)scale(0.12 -0.12)\">\n     <use xlink:href=\"#DejaVuSans-108\"/>\n     <use x=\"27.783203\" xlink:href=\"#DejaVuSans-97\"/>\n     <use x=\"89.0625\" xlink:href=\"#DejaVuSans-98\"/>\n     <use x=\"152.539062\" xlink:href=\"#DejaVuSans-101\"/>\n     <use x=\"214.0625\" xlink:href=\"#DejaVuSans-108\"/>\n     <use x=\"241.845703\" xlink:href=\"#DejaVuSans-32\"/>\n     <use x=\"273.632812\" xlink:href=\"#DejaVuSans-61\"/>\n     <use x=\"357.421875\" xlink:href=\"#DejaVuSans-32\"/>\n     <use x=\"389.208984\" xlink:href=\"#DejaVuSans-48\"/>\n    </g>\n   </g>\n  </g>\n </g>\n <defs>\n  <clipPath id=\"p0e80eb5ca4\">\n   <rect height=\"127.905882\" width=\"127.905882\" x=\"10.7\" y=\"22.318125\"/>\n  </clipPath>\n  <clipPath id=\"p0d3022ba8c\">\n   <rect height=\"127.905882\" width=\"127.905882\" x=\"168.252941\" y=\"22.318125\"/>\n  </clipPath>\n  <clipPath id=\"p33e8e4fb48\">\n   <rect height=\"127.905882\" width=\"127.905882\" x=\"325.805882\" y=\"22.318125\"/>\n  </clipPath>\n  <clipPath id=\"p36a5a6dbe6\">\n   <rect height=\"127.905882\" width=\"127.905882\" x=\"10.7\" y=\"175.805184\"/>\n  </clipPath>\n  <clipPath id=\"pba05270d19\">\n   <rect height=\"127.905882\" width=\"127.905882\" x=\"168.252941\" y=\"175.805184\"/>\n  </clipPath>\n  <clipPath id=\"p63e554253e\">\n   <rect height=\"127.905882\" width=\"127.905882\" x=\"325.805882\" y=\"175.805184\"/>\n  </clipPath>\n  <clipPath id=\"pcbbf4f1212\">\n   <rect height=\"127.905882\" width=\"127.905882\" x=\"10.7\" y=\"329.292243\"/>\n  </clipPath>\n  <clipPath id=\"pbb0fecde53\">\n   <rect height=\"127.905882\" width=\"127.905882\" x=\"168.252941\" y=\"329.292243\"/>\n  </clipPath>\n  <clipPath id=\"pe40e19f8ef\">\n   <rect height=\"127.905882\" width=\"127.905882\" x=\"325.805882\" y=\"329.292243\"/>\n  </clipPath>\n </defs>\n</svg>\n"
          },
          "metadata": {
            "tags": []
          }
        }
      ]
    },
    {
      "cell_type": "markdown",
      "metadata": {
        "id": "s2GBuPqno3GB"
      },
      "source": [
        "# 定义模型\n",
        "\n",
        "使用Keras接口有以下3种方式构建模型：使用Sequential按层顺序构建模型，使用函数式API构建任意结构模型，继承Model基类构建自定义模型。此处选择使用函数式API构建模型。\n",
        "\n"
      ]
    },
    {
      "cell_type": "code",
      "metadata": {
        "id": "b5PBmgfKpFes",
        "outputId": "1bc53da6-8792-4109-b1f1-9853f33b8322",
        "colab": {
          "base_uri": "https://localhost:8080/",
          "height": 459
        }
      },
      "source": [
        "tf.keras.backend.clear_session() #清空会话\n",
        "\n",
        "inputs = layers.Input(shape=(32,32,3))\n",
        "x = layers.Conv2D(32,kernel_size=(3,3))(inputs)\n",
        "x = layers.MaxPool2D()(x)\n",
        "x = layers.Conv2D(64,kernel_size=(5,5))(x)\n",
        "x = layers.MaxPool2D()(x)\n",
        "x = layers.Dropout(rate=0.1)(x)\n",
        "x = layers.Flatten()(x)\n",
        "x = layers.Dense(32,activation='relu')(x)\n",
        "outputs = layers.Dense(1,activation = 'sigmoid')(x)\n",
        "\n",
        "model = models.Model(inputs = inputs,outputs = outputs)\n",
        "\n",
        "model.summary()"
      ],
      "execution_count": 40,
      "outputs": [
        {
          "output_type": "stream",
          "text": [
            "Model: \"functional_1\"\n",
            "_________________________________________________________________\n",
            "Layer (type)                 Output Shape              Param #   \n",
            "=================================================================\n",
            "input_1 (InputLayer)         [(None, 32, 32, 3)]       0         \n",
            "_________________________________________________________________\n",
            "conv2d (Conv2D)              (None, 30, 30, 32)        896       \n",
            "_________________________________________________________________\n",
            "max_pooling2d (MaxPooling2D) (None, 15, 15, 32)        0         \n",
            "_________________________________________________________________\n",
            "conv2d_1 (Conv2D)            (None, 11, 11, 64)        51264     \n",
            "_________________________________________________________________\n",
            "max_pooling2d_1 (MaxPooling2 (None, 5, 5, 64)          0         \n",
            "_________________________________________________________________\n",
            "dropout (Dropout)            (None, 5, 5, 64)          0         \n",
            "_________________________________________________________________\n",
            "flatten (Flatten)            (None, 1600)              0         \n",
            "_________________________________________________________________\n",
            "dense (Dense)                (None, 32)                51232     \n",
            "_________________________________________________________________\n",
            "dense_1 (Dense)              (None, 1)                 33        \n",
            "=================================================================\n",
            "Total params: 103,425\n",
            "Trainable params: 103,425\n",
            "Non-trainable params: 0\n",
            "_________________________________________________________________\n"
          ],
          "name": "stdout"
        }
      ]
    },
    {
      "cell_type": "markdown",
      "metadata": {
        "id": "rUbM6XKRpJ_o"
      },
      "source": [
        "# 训练模型\n",
        "\n",
        "训练模型通常有3种方法，内置fit方法，内置train_on_batch方法，以及自定义训练循环。此处我们选择最常用也最简单的内置fit方法。\n",
        "\n"
      ]
    },
    {
      "cell_type": "code",
      "metadata": {
        "id": "uqs8jEdzpMks",
        "outputId": "364ec4da-f381-4baa-8b04-f4ce65c7d1c9",
        "colab": {
          "base_uri": "https://localhost:8080/",
          "height": 428
        }
      },
      "source": [
        "import datetime\n",
        "import os\n",
        "\n",
        "stamp = datetime.datetime.now().strftime(\"%Y%m%d-%H%M%S\")\n",
        "logdir = os.path.join('data', 'autograph', stamp)\n",
        "\n",
        "## 在 Python3 下建议使用 pathlib 修正各操作系统的路径\n",
        "# from pathlib import Path\n",
        "# stamp = datetime.datetime.now().strftime(\"%Y%m%d-%H%M%S\")\n",
        "# logdir = str(Path('./data/autograph/' + stamp))\n",
        "\n",
        "tensorboard_callback = tf.keras.callbacks.TensorBoard(logdir, histogram_freq=1)\n",
        "\n",
        "model.compile(\n",
        "        optimizer=tf.keras.optimizers.Adam(learning_rate=0.001),\n",
        "        loss=tf.keras.losses.binary_crossentropy,\n",
        "        metrics=[\"accuracy\"]\n",
        "    )\n",
        "\n",
        "history = model.fit(ds_train,epochs= 10,validation_data=ds_test,\n",
        "                    callbacks = [tensorboard_callback],workers = 4)"
      ],
      "execution_count": 41,
      "outputs": [
        {
          "output_type": "stream",
          "text": [
            "Epoch 1/10\n",
            "  1/100 [..............................] - ETA: 0s - loss: 0.6654 - accuracy: 0.7200WARNING:tensorflow:From /usr/local/lib/python3.6/dist-packages/tensorflow/python/ops/summary_ops_v2.py:1277: stop (from tensorflow.python.eager.profiler) is deprecated and will be removed after 2020-07-01.\n",
            "Instructions for updating:\n",
            "use `tf.profiler.experimental.stop` instead.\n",
            "100/100 [==============================] - 24s 236ms/step - loss: 0.0100 - accuracy: 0.9972 - val_loss: 2.3765e-11 - val_accuracy: 1.0000\n",
            "Epoch 2/10\n",
            "100/100 [==============================] - 23s 230ms/step - loss: 3.0937e-11 - accuracy: 1.0000 - val_loss: 2.3718e-11 - val_accuracy: 1.0000\n",
            "Epoch 3/10\n",
            "100/100 [==============================] - 23s 231ms/step - loss: 2.1761e-11 - accuracy: 1.0000 - val_loss: 2.3718e-11 - val_accuracy: 1.0000\n",
            "Epoch 4/10\n",
            "100/100 [==============================] - 24s 239ms/step - loss: 2.7531e-11 - accuracy: 1.0000 - val_loss: 2.3718e-11 - val_accuracy: 1.0000\n",
            "Epoch 5/10\n",
            "100/100 [==============================] - 24s 237ms/step - loss: 2.3209e-11 - accuracy: 1.0000 - val_loss: 2.3718e-11 - val_accuracy: 1.0000\n",
            "Epoch 6/10\n",
            "100/100 [==============================] - 24s 237ms/step - loss: 1.9580e-11 - accuracy: 1.0000 - val_loss: 2.3718e-11 - val_accuracy: 1.0000\n",
            "Epoch 7/10\n",
            "100/100 [==============================] - 25s 248ms/step - loss: 3.4269e-11 - accuracy: 1.0000 - val_loss: 2.3718e-11 - val_accuracy: 1.0000\n",
            "Epoch 8/10\n",
            "100/100 [==============================] - 24s 238ms/step - loss: 2.2300e-11 - accuracy: 1.0000 - val_loss: 2.3718e-11 - val_accuracy: 1.0000\n",
            "Epoch 9/10\n",
            "100/100 [==============================] - 25s 247ms/step - loss: 2.5341e-11 - accuracy: 1.0000 - val_loss: 2.3718e-11 - val_accuracy: 1.0000\n",
            "Epoch 10/10\n",
            "100/100 [==============================] - 24s 238ms/step - loss: 2.4397e-11 - accuracy: 1.0000 - val_loss: 2.3718e-11 - val_accuracy: 1.0000\n"
          ],
          "name": "stdout"
        }
      ]
    },
    {
      "cell_type": "markdown",
      "metadata": {
        "id": "mA9CG7zbrbJ9"
      },
      "source": [
        "# 评估模型"
      ]
    },
    {
      "cell_type": "code",
      "metadata": {
        "id": "dfVMi7XEreKh"
      },
      "source": [
        "%load_ext tensorboard\n",
        "#%tensorboard --logdir ./data/keras_model\n",
        "\n",
        "from tensorboard import notebook\n",
        "notebook.list() \n",
        "\n",
        "#在tensorboard中查看模型\n",
        "notebook.start(\"--logdir ./data/keras_model\")"
      ],
      "execution_count": null,
      "outputs": []
    },
    {
      "cell_type": "code",
      "metadata": {
        "id": "uoM7jJZSr2QP",
        "outputId": "a0cac212-c292-4cb4-c8df-00a453e884bd",
        "colab": {
          "base_uri": "https://localhost:8080/",
          "height": 390
        }
      },
      "source": [
        "import pandas as pd \n",
        "dfhistory = pd.DataFrame(history.history)\n",
        "dfhistory.index = range(1,len(dfhistory) + 1)\n",
        "dfhistory.index.name = 'epoch'\n",
        "\n",
        "dfhistory"
      ],
      "execution_count": 54,
      "outputs": [
        {
          "output_type": "execute_result",
          "data": {
            "text/html": [
              "<div>\n",
              "<style scoped>\n",
              "    .dataframe tbody tr th:only-of-type {\n",
              "        vertical-align: middle;\n",
              "    }\n",
              "\n",
              "    .dataframe tbody tr th {\n",
              "        vertical-align: top;\n",
              "    }\n",
              "\n",
              "    .dataframe thead th {\n",
              "        text-align: right;\n",
              "    }\n",
              "</style>\n",
              "<table border=\"1\" class=\"dataframe\">\n",
              "  <thead>\n",
              "    <tr style=\"text-align: right;\">\n",
              "      <th></th>\n",
              "      <th>loss</th>\n",
              "      <th>accuracy</th>\n",
              "      <th>val_loss</th>\n",
              "      <th>val_accuracy</th>\n",
              "    </tr>\n",
              "    <tr>\n",
              "      <th>epoch</th>\n",
              "      <th></th>\n",
              "      <th></th>\n",
              "      <th></th>\n",
              "      <th></th>\n",
              "    </tr>\n",
              "  </thead>\n",
              "  <tbody>\n",
              "    <tr>\n",
              "      <th>1</th>\n",
              "      <td>1.000360e-02</td>\n",
              "      <td>0.9972</td>\n",
              "      <td>2.376536e-11</td>\n",
              "      <td>1.0</td>\n",
              "    </tr>\n",
              "    <tr>\n",
              "      <th>2</th>\n",
              "      <td>3.093725e-11</td>\n",
              "      <td>1.0000</td>\n",
              "      <td>2.371828e-11</td>\n",
              "      <td>1.0</td>\n",
              "    </tr>\n",
              "    <tr>\n",
              "      <th>3</th>\n",
              "      <td>2.176126e-11</td>\n",
              "      <td>1.0000</td>\n",
              "      <td>2.371827e-11</td>\n",
              "      <td>1.0</td>\n",
              "    </tr>\n",
              "    <tr>\n",
              "      <th>4</th>\n",
              "      <td>2.753058e-11</td>\n",
              "      <td>1.0000</td>\n",
              "      <td>2.371826e-11</td>\n",
              "      <td>1.0</td>\n",
              "    </tr>\n",
              "    <tr>\n",
              "      <th>5</th>\n",
              "      <td>2.320893e-11</td>\n",
              "      <td>1.0000</td>\n",
              "      <td>2.371823e-11</td>\n",
              "      <td>1.0</td>\n",
              "    </tr>\n",
              "    <tr>\n",
              "      <th>6</th>\n",
              "      <td>1.957983e-11</td>\n",
              "      <td>1.0000</td>\n",
              "      <td>2.371824e-11</td>\n",
              "      <td>1.0</td>\n",
              "    </tr>\n",
              "    <tr>\n",
              "      <th>7</th>\n",
              "      <td>3.426895e-11</td>\n",
              "      <td>1.0000</td>\n",
              "      <td>2.371821e-11</td>\n",
              "      <td>1.0</td>\n",
              "    </tr>\n",
              "    <tr>\n",
              "      <th>8</th>\n",
              "      <td>2.229979e-11</td>\n",
              "      <td>1.0000</td>\n",
              "      <td>2.371817e-11</td>\n",
              "      <td>1.0</td>\n",
              "    </tr>\n",
              "    <tr>\n",
              "      <th>9</th>\n",
              "      <td>2.534112e-11</td>\n",
              "      <td>1.0000</td>\n",
              "      <td>2.371818e-11</td>\n",
              "      <td>1.0</td>\n",
              "    </tr>\n",
              "    <tr>\n",
              "      <th>10</th>\n",
              "      <td>2.439659e-11</td>\n",
              "      <td>1.0000</td>\n",
              "      <td>2.371814e-11</td>\n",
              "      <td>1.0</td>\n",
              "    </tr>\n",
              "  </tbody>\n",
              "</table>\n",
              "</div>"
            ],
            "text/plain": [
              "               loss  accuracy      val_loss  val_accuracy\n",
              "epoch                                                    \n",
              "1      1.000360e-02    0.9972  2.376536e-11           1.0\n",
              "2      3.093725e-11    1.0000  2.371828e-11           1.0\n",
              "3      2.176126e-11    1.0000  2.371827e-11           1.0\n",
              "4      2.753058e-11    1.0000  2.371826e-11           1.0\n",
              "5      2.320893e-11    1.0000  2.371823e-11           1.0\n",
              "6      1.957983e-11    1.0000  2.371824e-11           1.0\n",
              "7      3.426895e-11    1.0000  2.371821e-11           1.0\n",
              "8      2.229979e-11    1.0000  2.371817e-11           1.0\n",
              "9      2.534112e-11    1.0000  2.371818e-11           1.0\n",
              "10     2.439659e-11    1.0000  2.371814e-11           1.0"
            ]
          },
          "metadata": {
            "tags": []
          },
          "execution_count": 54
        }
      ]
    },
    {
      "cell_type": "code",
      "metadata": {
        "id": "u5x7tZESr4NJ",
        "outputId": "34d8777a-64d6-4148-93fa-5c82120a57a4",
        "colab": {
          "base_uri": "https://localhost:8080/",
          "height": 391
        }
      },
      "source": [
        "%matplotlib inline\n",
        "%config InlineBackend.figure_format = 'svg'\n",
        "\n",
        "import matplotlib.pyplot as plt\n",
        "\n",
        "def plot_metric(history, metric):\n",
        "    train_metrics = history.history[metric]\n",
        "    val_metrics = history.history['val_'+metric]\n",
        "    epochs = range(1, len(train_metrics) + 1)\n",
        "    plt.plot(epochs, train_metrics, 'bo--')\n",
        "    plt.plot(epochs, val_metrics, 'ro-')\n",
        "    plt.title('Training and validation '+ metric)\n",
        "    plt.xlabel(\"Epochs\")\n",
        "    plt.ylabel(metric)\n",
        "    plt.legend([\"train_\"+metric, 'val_'+metric])\n",
        "    plt.show()\n",
        "\n",
        "plot_metric(history,\"loss\")\n"
      ],
      "execution_count": 57,
      "outputs": [
        {
          "output_type": "display_data",
          "data": {
            "text/plain": [
              "<Figure size 432x288 with 1 Axes>"
            ],
            "image/svg+xml": "<?xml version=\"1.0\" encoding=\"utf-8\" standalone=\"no\"?>\n<!DOCTYPE svg PUBLIC \"-//W3C//DTD SVG 1.1//EN\"\n  \"http://www.w3.org/Graphics/SVG/1.1/DTD/svg11.dtd\">\n<!-- Created with matplotlib (https://matplotlib.org/) -->\n<svg height=\"277.314375pt\" version=\"1.1\" viewBox=\"0 0 398.50625 277.314375\" width=\"398.50625pt\" xmlns=\"http://www.w3.org/2000/svg\" xmlns:xlink=\"http://www.w3.org/1999/xlink\">\n <defs>\n  <style type=\"text/css\">\n*{stroke-linecap:butt;stroke-linejoin:round;}\n  </style>\n </defs>\n <g id=\"figure_1\">\n  <g id=\"patch_1\">\n   <path d=\"M 0 277.314375 \nL 398.50625 277.314375 \nL 398.50625 0 \nL 0 0 \nz\n\" style=\"fill:none;\"/>\n  </g>\n  <g id=\"axes_1\">\n   <g id=\"patch_2\">\n    <path d=\"M 56.50625 239.758125 \nL 391.30625 239.758125 \nL 391.30625 22.318125 \nL 56.50625 22.318125 \nz\n\" style=\"fill:#ffffff;\"/>\n   </g>\n   <g id=\"matplotlib.axis_1\">\n    <g id=\"xtick_1\">\n     <g id=\"line2d_1\">\n      <defs>\n       <path d=\"M 0 0 \nL 0 3.5 \n\" id=\"macdc3730a3\" style=\"stroke:#000000;stroke-width:0.8;\"/>\n      </defs>\n      <g>\n       <use style=\"stroke:#000000;stroke-width:0.8;\" x=\"105.542614\" xlink:href=\"#macdc3730a3\" y=\"239.758125\"/>\n      </g>\n     </g>\n     <g id=\"text_1\">\n      <!-- 2 -->\n      <defs>\n       <path d=\"M 19.1875 8.296875 \nL 53.609375 8.296875 \nL 53.609375 0 \nL 7.328125 0 \nL 7.328125 8.296875 \nQ 12.9375 14.109375 22.625 23.890625 \nQ 32.328125 33.6875 34.8125 36.53125 \nQ 39.546875 41.84375 41.421875 45.53125 \nQ 43.3125 49.21875 43.3125 52.78125 \nQ 43.3125 58.59375 39.234375 62.25 \nQ 35.15625 65.921875 28.609375 65.921875 \nQ 23.96875 65.921875 18.8125 64.3125 \nQ 13.671875 62.703125 7.8125 59.421875 \nL 7.8125 69.390625 \nQ 13.765625 71.78125 18.9375 73 \nQ 24.125 74.21875 28.421875 74.21875 \nQ 39.75 74.21875 46.484375 68.546875 \nQ 53.21875 62.890625 53.21875 53.421875 \nQ 53.21875 48.921875 51.53125 44.890625 \nQ 49.859375 40.875 45.40625 35.40625 \nQ 44.1875 33.984375 37.640625 27.21875 \nQ 31.109375 20.453125 19.1875 8.296875 \nz\n\" id=\"DejaVuSans-50\"/>\n      </defs>\n      <g transform=\"translate(102.361364 254.356562)scale(0.1 -0.1)\">\n       <use xlink:href=\"#DejaVuSans-50\"/>\n      </g>\n     </g>\n    </g>\n    <g id=\"xtick_2\">\n     <g id=\"line2d_2\">\n      <g>\n       <use style=\"stroke:#000000;stroke-width:0.8;\" x=\"173.178977\" xlink:href=\"#macdc3730a3\" y=\"239.758125\"/>\n      </g>\n     </g>\n     <g id=\"text_2\">\n      <!-- 4 -->\n      <defs>\n       <path d=\"M 37.796875 64.3125 \nL 12.890625 25.390625 \nL 37.796875 25.390625 \nz\nM 35.203125 72.90625 \nL 47.609375 72.90625 \nL 47.609375 25.390625 \nL 58.015625 25.390625 \nL 58.015625 17.1875 \nL 47.609375 17.1875 \nL 47.609375 0 \nL 37.796875 0 \nL 37.796875 17.1875 \nL 4.890625 17.1875 \nL 4.890625 26.703125 \nz\n\" id=\"DejaVuSans-52\"/>\n      </defs>\n      <g transform=\"translate(169.997727 254.356562)scale(0.1 -0.1)\">\n       <use xlink:href=\"#DejaVuSans-52\"/>\n      </g>\n     </g>\n    </g>\n    <g id=\"xtick_3\">\n     <g id=\"line2d_3\">\n      <g>\n       <use style=\"stroke:#000000;stroke-width:0.8;\" x=\"240.815341\" xlink:href=\"#macdc3730a3\" y=\"239.758125\"/>\n      </g>\n     </g>\n     <g id=\"text_3\">\n      <!-- 6 -->\n      <defs>\n       <path d=\"M 33.015625 40.375 \nQ 26.375 40.375 22.484375 35.828125 \nQ 18.609375 31.296875 18.609375 23.390625 \nQ 18.609375 15.53125 22.484375 10.953125 \nQ 26.375 6.390625 33.015625 6.390625 \nQ 39.65625 6.390625 43.53125 10.953125 \nQ 47.40625 15.53125 47.40625 23.390625 \nQ 47.40625 31.296875 43.53125 35.828125 \nQ 39.65625 40.375 33.015625 40.375 \nz\nM 52.59375 71.296875 \nL 52.59375 62.3125 \nQ 48.875 64.0625 45.09375 64.984375 \nQ 41.3125 65.921875 37.59375 65.921875 \nQ 27.828125 65.921875 22.671875 59.328125 \nQ 17.53125 52.734375 16.796875 39.40625 \nQ 19.671875 43.65625 24.015625 45.921875 \nQ 28.375 48.1875 33.59375 48.1875 \nQ 44.578125 48.1875 50.953125 41.515625 \nQ 57.328125 34.859375 57.328125 23.390625 \nQ 57.328125 12.15625 50.6875 5.359375 \nQ 44.046875 -1.421875 33.015625 -1.421875 \nQ 20.359375 -1.421875 13.671875 8.265625 \nQ 6.984375 17.96875 6.984375 36.375 \nQ 6.984375 53.65625 15.1875 63.9375 \nQ 23.390625 74.21875 37.203125 74.21875 \nQ 40.921875 74.21875 44.703125 73.484375 \nQ 48.484375 72.75 52.59375 71.296875 \nz\n\" id=\"DejaVuSans-54\"/>\n      </defs>\n      <g transform=\"translate(237.634091 254.356562)scale(0.1 -0.1)\">\n       <use xlink:href=\"#DejaVuSans-54\"/>\n      </g>\n     </g>\n    </g>\n    <g id=\"xtick_4\">\n     <g id=\"line2d_4\">\n      <g>\n       <use style=\"stroke:#000000;stroke-width:0.8;\" x=\"308.451705\" xlink:href=\"#macdc3730a3\" y=\"239.758125\"/>\n      </g>\n     </g>\n     <g id=\"text_4\">\n      <!-- 8 -->\n      <defs>\n       <path d=\"M 31.78125 34.625 \nQ 24.75 34.625 20.71875 30.859375 \nQ 16.703125 27.09375 16.703125 20.515625 \nQ 16.703125 13.921875 20.71875 10.15625 \nQ 24.75 6.390625 31.78125 6.390625 \nQ 38.8125 6.390625 42.859375 10.171875 \nQ 46.921875 13.96875 46.921875 20.515625 \nQ 46.921875 27.09375 42.890625 30.859375 \nQ 38.875 34.625 31.78125 34.625 \nz\nM 21.921875 38.8125 \nQ 15.578125 40.375 12.03125 44.71875 \nQ 8.5 49.078125 8.5 55.328125 \nQ 8.5 64.0625 14.71875 69.140625 \nQ 20.953125 74.21875 31.78125 74.21875 \nQ 42.671875 74.21875 48.875 69.140625 \nQ 55.078125 64.0625 55.078125 55.328125 \nQ 55.078125 49.078125 51.53125 44.71875 \nQ 48 40.375 41.703125 38.8125 \nQ 48.828125 37.15625 52.796875 32.3125 \nQ 56.78125 27.484375 56.78125 20.515625 \nQ 56.78125 9.90625 50.3125 4.234375 \nQ 43.84375 -1.421875 31.78125 -1.421875 \nQ 19.734375 -1.421875 13.25 4.234375 \nQ 6.78125 9.90625 6.78125 20.515625 \nQ 6.78125 27.484375 10.78125 32.3125 \nQ 14.796875 37.15625 21.921875 38.8125 \nz\nM 18.3125 54.390625 \nQ 18.3125 48.734375 21.84375 45.5625 \nQ 25.390625 42.390625 31.78125 42.390625 \nQ 38.140625 42.390625 41.71875 45.5625 \nQ 45.3125 48.734375 45.3125 54.390625 \nQ 45.3125 60.0625 41.71875 63.234375 \nQ 38.140625 66.40625 31.78125 66.40625 \nQ 25.390625 66.40625 21.84375 63.234375 \nQ 18.3125 60.0625 18.3125 54.390625 \nz\n\" id=\"DejaVuSans-56\"/>\n      </defs>\n      <g transform=\"translate(305.270455 254.356562)scale(0.1 -0.1)\">\n       <use xlink:href=\"#DejaVuSans-56\"/>\n      </g>\n     </g>\n    </g>\n    <g id=\"xtick_5\">\n     <g id=\"line2d_5\">\n      <g>\n       <use style=\"stroke:#000000;stroke-width:0.8;\" x=\"376.088068\" xlink:href=\"#macdc3730a3\" y=\"239.758125\"/>\n      </g>\n     </g>\n     <g id=\"text_5\">\n      <!-- 10 -->\n      <defs>\n       <path d=\"M 12.40625 8.296875 \nL 28.515625 8.296875 \nL 28.515625 63.921875 \nL 10.984375 60.40625 \nL 10.984375 69.390625 \nL 28.421875 72.90625 \nL 38.28125 72.90625 \nL 38.28125 8.296875 \nL 54.390625 8.296875 \nL 54.390625 0 \nL 12.40625 0 \nz\n\" id=\"DejaVuSans-49\"/>\n       <path d=\"M 31.78125 66.40625 \nQ 24.171875 66.40625 20.328125 58.90625 \nQ 16.5 51.421875 16.5 36.375 \nQ 16.5 21.390625 20.328125 13.890625 \nQ 24.171875 6.390625 31.78125 6.390625 \nQ 39.453125 6.390625 43.28125 13.890625 \nQ 47.125 21.390625 47.125 36.375 \nQ 47.125 51.421875 43.28125 58.90625 \nQ 39.453125 66.40625 31.78125 66.40625 \nz\nM 31.78125 74.21875 \nQ 44.046875 74.21875 50.515625 64.515625 \nQ 56.984375 54.828125 56.984375 36.375 \nQ 56.984375 17.96875 50.515625 8.265625 \nQ 44.046875 -1.421875 31.78125 -1.421875 \nQ 19.53125 -1.421875 13.0625 8.265625 \nQ 6.59375 17.96875 6.59375 36.375 \nQ 6.59375 54.828125 13.0625 64.515625 \nQ 19.53125 74.21875 31.78125 74.21875 \nz\n\" id=\"DejaVuSans-48\"/>\n      </defs>\n      <g transform=\"translate(369.725568 254.356562)scale(0.1 -0.1)\">\n       <use xlink:href=\"#DejaVuSans-49\"/>\n       <use x=\"63.623047\" xlink:href=\"#DejaVuSans-48\"/>\n      </g>\n     </g>\n    </g>\n    <g id=\"text_6\">\n     <!-- Epochs -->\n     <defs>\n      <path d=\"M 9.8125 72.90625 \nL 55.90625 72.90625 \nL 55.90625 64.59375 \nL 19.671875 64.59375 \nL 19.671875 43.015625 \nL 54.390625 43.015625 \nL 54.390625 34.71875 \nL 19.671875 34.71875 \nL 19.671875 8.296875 \nL 56.78125 8.296875 \nL 56.78125 0 \nL 9.8125 0 \nz\n\" id=\"DejaVuSans-69\"/>\n      <path d=\"M 18.109375 8.203125 \nL 18.109375 -20.796875 \nL 9.078125 -20.796875 \nL 9.078125 54.6875 \nL 18.109375 54.6875 \nL 18.109375 46.390625 \nQ 20.953125 51.265625 25.265625 53.625 \nQ 29.59375 56 35.59375 56 \nQ 45.5625 56 51.78125 48.09375 \nQ 58.015625 40.1875 58.015625 27.296875 \nQ 58.015625 14.40625 51.78125 6.484375 \nQ 45.5625 -1.421875 35.59375 -1.421875 \nQ 29.59375 -1.421875 25.265625 0.953125 \nQ 20.953125 3.328125 18.109375 8.203125 \nz\nM 48.6875 27.296875 \nQ 48.6875 37.203125 44.609375 42.84375 \nQ 40.53125 48.484375 33.40625 48.484375 \nQ 26.265625 48.484375 22.1875 42.84375 \nQ 18.109375 37.203125 18.109375 27.296875 \nQ 18.109375 17.390625 22.1875 11.75 \nQ 26.265625 6.109375 33.40625 6.109375 \nQ 40.53125 6.109375 44.609375 11.75 \nQ 48.6875 17.390625 48.6875 27.296875 \nz\n\" id=\"DejaVuSans-112\"/>\n      <path d=\"M 30.609375 48.390625 \nQ 23.390625 48.390625 19.1875 42.75 \nQ 14.984375 37.109375 14.984375 27.296875 \nQ 14.984375 17.484375 19.15625 11.84375 \nQ 23.34375 6.203125 30.609375 6.203125 \nQ 37.796875 6.203125 41.984375 11.859375 \nQ 46.1875 17.53125 46.1875 27.296875 \nQ 46.1875 37.015625 41.984375 42.703125 \nQ 37.796875 48.390625 30.609375 48.390625 \nz\nM 30.609375 56 \nQ 42.328125 56 49.015625 48.375 \nQ 55.71875 40.765625 55.71875 27.296875 \nQ 55.71875 13.875 49.015625 6.21875 \nQ 42.328125 -1.421875 30.609375 -1.421875 \nQ 18.84375 -1.421875 12.171875 6.21875 \nQ 5.515625 13.875 5.515625 27.296875 \nQ 5.515625 40.765625 12.171875 48.375 \nQ 18.84375 56 30.609375 56 \nz\n\" id=\"DejaVuSans-111\"/>\n      <path d=\"M 48.78125 52.59375 \nL 48.78125 44.1875 \nQ 44.96875 46.296875 41.140625 47.34375 \nQ 37.3125 48.390625 33.40625 48.390625 \nQ 24.65625 48.390625 19.8125 42.84375 \nQ 14.984375 37.3125 14.984375 27.296875 \nQ 14.984375 17.28125 19.8125 11.734375 \nQ 24.65625 6.203125 33.40625 6.203125 \nQ 37.3125 6.203125 41.140625 7.25 \nQ 44.96875 8.296875 48.78125 10.40625 \nL 48.78125 2.09375 \nQ 45.015625 0.34375 40.984375 -0.53125 \nQ 36.96875 -1.421875 32.421875 -1.421875 \nQ 20.0625 -1.421875 12.78125 6.34375 \nQ 5.515625 14.109375 5.515625 27.296875 \nQ 5.515625 40.671875 12.859375 48.328125 \nQ 20.21875 56 33.015625 56 \nQ 37.15625 56 41.109375 55.140625 \nQ 45.0625 54.296875 48.78125 52.59375 \nz\n\" id=\"DejaVuSans-99\"/>\n      <path d=\"M 54.890625 33.015625 \nL 54.890625 0 \nL 45.90625 0 \nL 45.90625 32.71875 \nQ 45.90625 40.484375 42.875 44.328125 \nQ 39.84375 48.1875 33.796875 48.1875 \nQ 26.515625 48.1875 22.3125 43.546875 \nQ 18.109375 38.921875 18.109375 30.90625 \nL 18.109375 0 \nL 9.078125 0 \nL 9.078125 75.984375 \nL 18.109375 75.984375 \nL 18.109375 46.1875 \nQ 21.34375 51.125 25.703125 53.5625 \nQ 30.078125 56 35.796875 56 \nQ 45.21875 56 50.046875 50.171875 \nQ 54.890625 44.34375 54.890625 33.015625 \nz\n\" id=\"DejaVuSans-104\"/>\n      <path d=\"M 44.28125 53.078125 \nL 44.28125 44.578125 \nQ 40.484375 46.53125 36.375 47.5 \nQ 32.28125 48.484375 27.875 48.484375 \nQ 21.1875 48.484375 17.84375 46.4375 \nQ 14.5 44.390625 14.5 40.28125 \nQ 14.5 37.15625 16.890625 35.375 \nQ 19.28125 33.59375 26.515625 31.984375 \nL 29.59375 31.296875 \nQ 39.15625 29.25 43.1875 25.515625 \nQ 47.21875 21.78125 47.21875 15.09375 \nQ 47.21875 7.46875 41.1875 3.015625 \nQ 35.15625 -1.421875 24.609375 -1.421875 \nQ 20.21875 -1.421875 15.453125 -0.5625 \nQ 10.6875 0.296875 5.421875 2 \nL 5.421875 11.28125 \nQ 10.40625 8.6875 15.234375 7.390625 \nQ 20.0625 6.109375 24.8125 6.109375 \nQ 31.15625 6.109375 34.5625 8.28125 \nQ 37.984375 10.453125 37.984375 14.40625 \nQ 37.984375 18.0625 35.515625 20.015625 \nQ 33.0625 21.96875 24.703125 23.78125 \nL 21.578125 24.515625 \nQ 13.234375 26.265625 9.515625 29.90625 \nQ 5.8125 33.546875 5.8125 39.890625 \nQ 5.8125 47.609375 11.28125 51.796875 \nQ 16.75 56 26.8125 56 \nQ 31.78125 56 36.171875 55.265625 \nQ 40.578125 54.546875 44.28125 53.078125 \nz\n\" id=\"DejaVuSans-115\"/>\n     </defs>\n     <g transform=\"translate(205.990625 268.034687)scale(0.1 -0.1)\">\n      <use xlink:href=\"#DejaVuSans-69\"/>\n      <use x=\"63.183594\" xlink:href=\"#DejaVuSans-112\"/>\n      <use x=\"126.660156\" xlink:href=\"#DejaVuSans-111\"/>\n      <use x=\"187.841797\" xlink:href=\"#DejaVuSans-99\"/>\n      <use x=\"242.822266\" xlink:href=\"#DejaVuSans-104\"/>\n      <use x=\"306.201172\" xlink:href=\"#DejaVuSans-115\"/>\n     </g>\n    </g>\n   </g>\n   <g id=\"matplotlib.axis_2\">\n    <g id=\"ytick_1\">\n     <g id=\"line2d_6\">\n      <defs>\n       <path d=\"M 0 0 \nL -3.5 0 \n\" id=\"m8e52611d22\" style=\"stroke:#000000;stroke-width:0.8;\"/>\n      </defs>\n      <g>\n       <use style=\"stroke:#000000;stroke-width:0.8;\" x=\"56.50625\" xlink:href=\"#m8e52611d22\" y=\"229.874489\"/>\n      </g>\n     </g>\n     <g id=\"text_7\">\n      <!-- 0.000 -->\n      <defs>\n       <path d=\"M 10.6875 12.40625 \nL 21 12.40625 \nL 21 0 \nL 10.6875 0 \nz\n\" id=\"DejaVuSans-46\"/>\n      </defs>\n      <g transform=\"translate(20.878125 233.673708)scale(0.1 -0.1)\">\n       <use xlink:href=\"#DejaVuSans-48\"/>\n       <use x=\"63.623047\" xlink:href=\"#DejaVuSans-46\"/>\n       <use x=\"95.410156\" xlink:href=\"#DejaVuSans-48\"/>\n       <use x=\"159.033203\" xlink:href=\"#DejaVuSans-48\"/>\n       <use x=\"222.65625\" xlink:href=\"#DejaVuSans-48\"/>\n      </g>\n     </g>\n    </g>\n    <g id=\"ytick_2\">\n     <g id=\"line2d_7\">\n      <g>\n       <use style=\"stroke:#000000;stroke-width:0.8;\" x=\"56.50625\" xlink:href=\"#m8e52611d22\" y=\"190.354157\"/>\n      </g>\n     </g>\n     <g id=\"text_8\">\n      <!-- 0.002 -->\n      <g transform=\"translate(20.878125 194.153376)scale(0.1 -0.1)\">\n       <use xlink:href=\"#DejaVuSans-48\"/>\n       <use x=\"63.623047\" xlink:href=\"#DejaVuSans-46\"/>\n       <use x=\"95.410156\" xlink:href=\"#DejaVuSans-48\"/>\n       <use x=\"159.033203\" xlink:href=\"#DejaVuSans-48\"/>\n       <use x=\"222.65625\" xlink:href=\"#DejaVuSans-50\"/>\n      </g>\n     </g>\n    </g>\n    <g id=\"ytick_3\">\n     <g id=\"line2d_8\">\n      <g>\n       <use style=\"stroke:#000000;stroke-width:0.8;\" x=\"56.50625\" xlink:href=\"#m8e52611d22\" y=\"150.833825\"/>\n      </g>\n     </g>\n     <g id=\"text_9\">\n      <!-- 0.004 -->\n      <g transform=\"translate(20.878125 154.633044)scale(0.1 -0.1)\">\n       <use xlink:href=\"#DejaVuSans-48\"/>\n       <use x=\"63.623047\" xlink:href=\"#DejaVuSans-46\"/>\n       <use x=\"95.410156\" xlink:href=\"#DejaVuSans-48\"/>\n       <use x=\"159.033203\" xlink:href=\"#DejaVuSans-48\"/>\n       <use x=\"222.65625\" xlink:href=\"#DejaVuSans-52\"/>\n      </g>\n     </g>\n    </g>\n    <g id=\"ytick_4\">\n     <g id=\"line2d_9\">\n      <g>\n       <use style=\"stroke:#000000;stroke-width:0.8;\" x=\"56.50625\" xlink:href=\"#m8e52611d22\" y=\"111.313493\"/>\n      </g>\n     </g>\n     <g id=\"text_10\">\n      <!-- 0.006 -->\n      <g transform=\"translate(20.878125 115.112712)scale(0.1 -0.1)\">\n       <use xlink:href=\"#DejaVuSans-48\"/>\n       <use x=\"63.623047\" xlink:href=\"#DejaVuSans-46\"/>\n       <use x=\"95.410156\" xlink:href=\"#DejaVuSans-48\"/>\n       <use x=\"159.033203\" xlink:href=\"#DejaVuSans-48\"/>\n       <use x=\"222.65625\" xlink:href=\"#DejaVuSans-54\"/>\n      </g>\n     </g>\n    </g>\n    <g id=\"ytick_5\">\n     <g id=\"line2d_10\">\n      <g>\n       <use style=\"stroke:#000000;stroke-width:0.8;\" x=\"56.50625\" xlink:href=\"#m8e52611d22\" y=\"71.793162\"/>\n      </g>\n     </g>\n     <g id=\"text_11\">\n      <!-- 0.008 -->\n      <g transform=\"translate(20.878125 75.59238)scale(0.1 -0.1)\">\n       <use xlink:href=\"#DejaVuSans-48\"/>\n       <use x=\"63.623047\" xlink:href=\"#DejaVuSans-46\"/>\n       <use x=\"95.410156\" xlink:href=\"#DejaVuSans-48\"/>\n       <use x=\"159.033203\" xlink:href=\"#DejaVuSans-48\"/>\n       <use x=\"222.65625\" xlink:href=\"#DejaVuSans-56\"/>\n      </g>\n     </g>\n    </g>\n    <g id=\"ytick_6\">\n     <g id=\"line2d_11\">\n      <g>\n       <use style=\"stroke:#000000;stroke-width:0.8;\" x=\"56.50625\" xlink:href=\"#m8e52611d22\" y=\"32.27283\"/>\n      </g>\n     </g>\n     <g id=\"text_12\">\n      <!-- 0.010 -->\n      <g transform=\"translate(20.878125 36.072048)scale(0.1 -0.1)\">\n       <use xlink:href=\"#DejaVuSans-48\"/>\n       <use x=\"63.623047\" xlink:href=\"#DejaVuSans-46\"/>\n       <use x=\"95.410156\" xlink:href=\"#DejaVuSans-48\"/>\n       <use x=\"159.033203\" xlink:href=\"#DejaVuSans-49\"/>\n       <use x=\"222.65625\" xlink:href=\"#DejaVuSans-48\"/>\n      </g>\n     </g>\n    </g>\n    <g id=\"text_13\">\n     <!-- loss -->\n     <defs>\n      <path d=\"M 9.421875 75.984375 \nL 18.40625 75.984375 \nL 18.40625 0 \nL 9.421875 0 \nz\n\" id=\"DejaVuSans-108\"/>\n     </defs>\n     <g transform=\"translate(14.798438 140.695937)rotate(-90)scale(0.1 -0.1)\">\n      <use xlink:href=\"#DejaVuSans-108\"/>\n      <use x=\"27.783203\" xlink:href=\"#DejaVuSans-111\"/>\n      <use x=\"88.964844\" xlink:href=\"#DejaVuSans-115\"/>\n      <use x=\"141.064453\" xlink:href=\"#DejaVuSans-115\"/>\n     </g>\n    </g>\n   </g>\n   <g id=\"line2d_12\">\n    <path clip-path=\"url(#p302c473d89)\" d=\"M 71.724432 32.201761 \nL 105.542614 229.874488 \nL 139.360795 229.874489 \nL 173.178977 229.874488 \nL 206.997159 229.874489 \nL 240.815341 229.874489 \nL 274.633523 229.874488 \nL 308.451705 229.874489 \nL 342.269886 229.874489 \nL 376.088068 229.874489 \n\" style=\"fill:none;stroke:#0000ff;stroke-dasharray:5.55,2.4;stroke-dashoffset:0;stroke-width:1.5;\"/>\n    <defs>\n     <path d=\"M 0 3 \nC 0.795609 3 1.55874 2.683901 2.12132 2.12132 \nC 2.683901 1.55874 3 0.795609 3 0 \nC 3 -0.795609 2.683901 -1.55874 2.12132 -2.12132 \nC 1.55874 -2.683901 0.795609 -3 0 -3 \nC -0.795609 -3 -1.55874 -2.683901 -2.12132 -2.12132 \nC -2.683901 -1.55874 -3 -0.795609 -3 0 \nC -3 0.795609 -2.683901 1.55874 -2.12132 2.12132 \nC -1.55874 2.683901 -0.795609 3 0 3 \nz\n\" id=\"mad2d9c7159\" style=\"stroke:#0000ff;\"/>\n    </defs>\n    <g clip-path=\"url(#p302c473d89)\">\n     <use style=\"fill:#0000ff;stroke:#0000ff;\" x=\"71.724432\" xlink:href=\"#mad2d9c7159\" y=\"32.201761\"/>\n     <use style=\"fill:#0000ff;stroke:#0000ff;\" x=\"105.542614\" xlink:href=\"#mad2d9c7159\" y=\"229.874488\"/>\n     <use style=\"fill:#0000ff;stroke:#0000ff;\" x=\"139.360795\" xlink:href=\"#mad2d9c7159\" y=\"229.874489\"/>\n     <use style=\"fill:#0000ff;stroke:#0000ff;\" x=\"173.178977\" xlink:href=\"#mad2d9c7159\" y=\"229.874488\"/>\n     <use style=\"fill:#0000ff;stroke:#0000ff;\" x=\"206.997159\" xlink:href=\"#mad2d9c7159\" y=\"229.874489\"/>\n     <use style=\"fill:#0000ff;stroke:#0000ff;\" x=\"240.815341\" xlink:href=\"#mad2d9c7159\" y=\"229.874489\"/>\n     <use style=\"fill:#0000ff;stroke:#0000ff;\" x=\"274.633523\" xlink:href=\"#mad2d9c7159\" y=\"229.874488\"/>\n     <use style=\"fill:#0000ff;stroke:#0000ff;\" x=\"308.451705\" xlink:href=\"#mad2d9c7159\" y=\"229.874489\"/>\n     <use style=\"fill:#0000ff;stroke:#0000ff;\" x=\"342.269886\" xlink:href=\"#mad2d9c7159\" y=\"229.874489\"/>\n     <use style=\"fill:#0000ff;stroke:#0000ff;\" x=\"376.088068\" xlink:href=\"#mad2d9c7159\" y=\"229.874489\"/>\n    </g>\n   </g>\n   <g id=\"line2d_13\">\n    <path clip-path=\"url(#p302c473d89)\" d=\"M 71.724432 229.874489 \nL 105.542614 229.874489 \nL 139.360795 229.874489 \nL 173.178977 229.874489 \nL 206.997159 229.874489 \nL 240.815341 229.874489 \nL 274.633523 229.874489 \nL 308.451705 229.874489 \nL 342.269886 229.874489 \nL 376.088068 229.874489 \n\" style=\"fill:none;stroke:#ff0000;stroke-linecap:square;stroke-width:1.5;\"/>\n    <defs>\n     <path d=\"M 0 3 \nC 0.795609 3 1.55874 2.683901 2.12132 2.12132 \nC 2.683901 1.55874 3 0.795609 3 0 \nC 3 -0.795609 2.683901 -1.55874 2.12132 -2.12132 \nC 1.55874 -2.683901 0.795609 -3 0 -3 \nC -0.795609 -3 -1.55874 -2.683901 -2.12132 -2.12132 \nC -2.683901 -1.55874 -3 -0.795609 -3 0 \nC -3 0.795609 -2.683901 1.55874 -2.12132 2.12132 \nC -1.55874 2.683901 -0.795609 3 0 3 \nz\n\" id=\"m50f743ab54\" style=\"stroke:#ff0000;\"/>\n    </defs>\n    <g clip-path=\"url(#p302c473d89)\">\n     <use style=\"fill:#ff0000;stroke:#ff0000;\" x=\"71.724432\" xlink:href=\"#m50f743ab54\" y=\"229.874489\"/>\n     <use style=\"fill:#ff0000;stroke:#ff0000;\" x=\"105.542614\" xlink:href=\"#m50f743ab54\" y=\"229.874489\"/>\n     <use style=\"fill:#ff0000;stroke:#ff0000;\" x=\"139.360795\" xlink:href=\"#m50f743ab54\" y=\"229.874489\"/>\n     <use style=\"fill:#ff0000;stroke:#ff0000;\" x=\"173.178977\" xlink:href=\"#m50f743ab54\" y=\"229.874489\"/>\n     <use style=\"fill:#ff0000;stroke:#ff0000;\" x=\"206.997159\" xlink:href=\"#m50f743ab54\" y=\"229.874489\"/>\n     <use style=\"fill:#ff0000;stroke:#ff0000;\" x=\"240.815341\" xlink:href=\"#m50f743ab54\" y=\"229.874489\"/>\n     <use style=\"fill:#ff0000;stroke:#ff0000;\" x=\"274.633523\" xlink:href=\"#m50f743ab54\" y=\"229.874489\"/>\n     <use style=\"fill:#ff0000;stroke:#ff0000;\" x=\"308.451705\" xlink:href=\"#m50f743ab54\" y=\"229.874489\"/>\n     <use style=\"fill:#ff0000;stroke:#ff0000;\" x=\"342.269886\" xlink:href=\"#m50f743ab54\" y=\"229.874489\"/>\n     <use style=\"fill:#ff0000;stroke:#ff0000;\" x=\"376.088068\" xlink:href=\"#m50f743ab54\" y=\"229.874489\"/>\n    </g>\n   </g>\n   <g id=\"patch_3\">\n    <path d=\"M 56.50625 239.758125 \nL 56.50625 22.318125 \n\" style=\"fill:none;stroke:#000000;stroke-linecap:square;stroke-linejoin:miter;stroke-width:0.8;\"/>\n   </g>\n   <g id=\"patch_4\">\n    <path d=\"M 391.30625 239.758125 \nL 391.30625 22.318125 \n\" style=\"fill:none;stroke:#000000;stroke-linecap:square;stroke-linejoin:miter;stroke-width:0.8;\"/>\n   </g>\n   <g id=\"patch_5\">\n    <path d=\"M 56.50625 239.758125 \nL 391.30625 239.758125 \n\" style=\"fill:none;stroke:#000000;stroke-linecap:square;stroke-linejoin:miter;stroke-width:0.8;\"/>\n   </g>\n   <g id=\"patch_6\">\n    <path d=\"M 56.50625 22.318125 \nL 391.30625 22.318125 \n\" style=\"fill:none;stroke:#000000;stroke-linecap:square;stroke-linejoin:miter;stroke-width:0.8;\"/>\n   </g>\n   <g id=\"text_14\">\n    <!-- Training and validation loss -->\n    <defs>\n     <path d=\"M -0.296875 72.90625 \nL 61.375 72.90625 \nL 61.375 64.59375 \nL 35.5 64.59375 \nL 35.5 0 \nL 25.59375 0 \nL 25.59375 64.59375 \nL -0.296875 64.59375 \nz\n\" id=\"DejaVuSans-84\"/>\n     <path d=\"M 41.109375 46.296875 \nQ 39.59375 47.171875 37.8125 47.578125 \nQ 36.03125 48 33.890625 48 \nQ 26.265625 48 22.1875 43.046875 \nQ 18.109375 38.09375 18.109375 28.8125 \nL 18.109375 0 \nL 9.078125 0 \nL 9.078125 54.6875 \nL 18.109375 54.6875 \nL 18.109375 46.1875 \nQ 20.953125 51.171875 25.484375 53.578125 \nQ 30.03125 56 36.53125 56 \nQ 37.453125 56 38.578125 55.875 \nQ 39.703125 55.765625 41.0625 55.515625 \nz\n\" id=\"DejaVuSans-114\"/>\n     <path d=\"M 34.28125 27.484375 \nQ 23.390625 27.484375 19.1875 25 \nQ 14.984375 22.515625 14.984375 16.5 \nQ 14.984375 11.71875 18.140625 8.90625 \nQ 21.296875 6.109375 26.703125 6.109375 \nQ 34.1875 6.109375 38.703125 11.40625 \nQ 43.21875 16.703125 43.21875 25.484375 \nL 43.21875 27.484375 \nz\nM 52.203125 31.203125 \nL 52.203125 0 \nL 43.21875 0 \nL 43.21875 8.296875 \nQ 40.140625 3.328125 35.546875 0.953125 \nQ 30.953125 -1.421875 24.3125 -1.421875 \nQ 15.921875 -1.421875 10.953125 3.296875 \nQ 6 8.015625 6 15.921875 \nQ 6 25.140625 12.171875 29.828125 \nQ 18.359375 34.515625 30.609375 34.515625 \nL 43.21875 34.515625 \nL 43.21875 35.40625 \nQ 43.21875 41.609375 39.140625 45 \nQ 35.0625 48.390625 27.6875 48.390625 \nQ 23 48.390625 18.546875 47.265625 \nQ 14.109375 46.140625 10.015625 43.890625 \nL 10.015625 52.203125 \nQ 14.9375 54.109375 19.578125 55.046875 \nQ 24.21875 56 28.609375 56 \nQ 40.484375 56 46.34375 49.84375 \nQ 52.203125 43.703125 52.203125 31.203125 \nz\n\" id=\"DejaVuSans-97\"/>\n     <path d=\"M 9.421875 54.6875 \nL 18.40625 54.6875 \nL 18.40625 0 \nL 9.421875 0 \nz\nM 9.421875 75.984375 \nL 18.40625 75.984375 \nL 18.40625 64.59375 \nL 9.421875 64.59375 \nz\n\" id=\"DejaVuSans-105\"/>\n     <path d=\"M 54.890625 33.015625 \nL 54.890625 0 \nL 45.90625 0 \nL 45.90625 32.71875 \nQ 45.90625 40.484375 42.875 44.328125 \nQ 39.84375 48.1875 33.796875 48.1875 \nQ 26.515625 48.1875 22.3125 43.546875 \nQ 18.109375 38.921875 18.109375 30.90625 \nL 18.109375 0 \nL 9.078125 0 \nL 9.078125 54.6875 \nL 18.109375 54.6875 \nL 18.109375 46.1875 \nQ 21.34375 51.125 25.703125 53.5625 \nQ 30.078125 56 35.796875 56 \nQ 45.21875 56 50.046875 50.171875 \nQ 54.890625 44.34375 54.890625 33.015625 \nz\n\" id=\"DejaVuSans-110\"/>\n     <path d=\"M 45.40625 27.984375 \nQ 45.40625 37.75 41.375 43.109375 \nQ 37.359375 48.484375 30.078125 48.484375 \nQ 22.859375 48.484375 18.828125 43.109375 \nQ 14.796875 37.75 14.796875 27.984375 \nQ 14.796875 18.265625 18.828125 12.890625 \nQ 22.859375 7.515625 30.078125 7.515625 \nQ 37.359375 7.515625 41.375 12.890625 \nQ 45.40625 18.265625 45.40625 27.984375 \nz\nM 54.390625 6.78125 \nQ 54.390625 -7.171875 48.1875 -13.984375 \nQ 42 -20.796875 29.203125 -20.796875 \nQ 24.46875 -20.796875 20.265625 -20.09375 \nQ 16.0625 -19.390625 12.109375 -17.921875 \nL 12.109375 -9.1875 \nQ 16.0625 -11.328125 19.921875 -12.34375 \nQ 23.78125 -13.375 27.78125 -13.375 \nQ 36.625 -13.375 41.015625 -8.765625 \nQ 45.40625 -4.15625 45.40625 5.171875 \nL 45.40625 9.625 \nQ 42.625 4.78125 38.28125 2.390625 \nQ 33.9375 0 27.875 0 \nQ 17.828125 0 11.671875 7.65625 \nQ 5.515625 15.328125 5.515625 27.984375 \nQ 5.515625 40.671875 11.671875 48.328125 \nQ 17.828125 56 27.875 56 \nQ 33.9375 56 38.28125 53.609375 \nQ 42.625 51.21875 45.40625 46.390625 \nL 45.40625 54.6875 \nL 54.390625 54.6875 \nz\n\" id=\"DejaVuSans-103\"/>\n     <path id=\"DejaVuSans-32\"/>\n     <path d=\"M 45.40625 46.390625 \nL 45.40625 75.984375 \nL 54.390625 75.984375 \nL 54.390625 0 \nL 45.40625 0 \nL 45.40625 8.203125 \nQ 42.578125 3.328125 38.25 0.953125 \nQ 33.9375 -1.421875 27.875 -1.421875 \nQ 17.96875 -1.421875 11.734375 6.484375 \nQ 5.515625 14.40625 5.515625 27.296875 \nQ 5.515625 40.1875 11.734375 48.09375 \nQ 17.96875 56 27.875 56 \nQ 33.9375 56 38.25 53.625 \nQ 42.578125 51.265625 45.40625 46.390625 \nz\nM 14.796875 27.296875 \nQ 14.796875 17.390625 18.875 11.75 \nQ 22.953125 6.109375 30.078125 6.109375 \nQ 37.203125 6.109375 41.296875 11.75 \nQ 45.40625 17.390625 45.40625 27.296875 \nQ 45.40625 37.203125 41.296875 42.84375 \nQ 37.203125 48.484375 30.078125 48.484375 \nQ 22.953125 48.484375 18.875 42.84375 \nQ 14.796875 37.203125 14.796875 27.296875 \nz\n\" id=\"DejaVuSans-100\"/>\n     <path d=\"M 2.984375 54.6875 \nL 12.5 54.6875 \nL 29.59375 8.796875 \nL 46.6875 54.6875 \nL 56.203125 54.6875 \nL 35.6875 0 \nL 23.484375 0 \nz\n\" id=\"DejaVuSans-118\"/>\n     <path d=\"M 18.3125 70.21875 \nL 18.3125 54.6875 \nL 36.8125 54.6875 \nL 36.8125 47.703125 \nL 18.3125 47.703125 \nL 18.3125 18.015625 \nQ 18.3125 11.328125 20.140625 9.421875 \nQ 21.96875 7.515625 27.59375 7.515625 \nL 36.8125 7.515625 \nL 36.8125 0 \nL 27.59375 0 \nQ 17.1875 0 13.234375 3.875 \nQ 9.28125 7.765625 9.28125 18.015625 \nL 9.28125 47.703125 \nL 2.6875 47.703125 \nL 2.6875 54.6875 \nL 9.28125 54.6875 \nL 9.28125 70.21875 \nz\n\" id=\"DejaVuSans-116\"/>\n    </defs>\n    <g transform=\"translate(142.09625 16.318125)scale(0.12 -0.12)\">\n     <use xlink:href=\"#DejaVuSans-84\"/>\n     <use x=\"46.333984\" xlink:href=\"#DejaVuSans-114\"/>\n     <use x=\"87.447266\" xlink:href=\"#DejaVuSans-97\"/>\n     <use x=\"148.726562\" xlink:href=\"#DejaVuSans-105\"/>\n     <use x=\"176.509766\" xlink:href=\"#DejaVuSans-110\"/>\n     <use x=\"239.888672\" xlink:href=\"#DejaVuSans-105\"/>\n     <use x=\"267.671875\" xlink:href=\"#DejaVuSans-110\"/>\n     <use x=\"331.050781\" xlink:href=\"#DejaVuSans-103\"/>\n     <use x=\"394.527344\" xlink:href=\"#DejaVuSans-32\"/>\n     <use x=\"426.314453\" xlink:href=\"#DejaVuSans-97\"/>\n     <use x=\"487.59375\" xlink:href=\"#DejaVuSans-110\"/>\n     <use x=\"550.972656\" xlink:href=\"#DejaVuSans-100\"/>\n     <use x=\"614.449219\" xlink:href=\"#DejaVuSans-32\"/>\n     <use x=\"646.236328\" xlink:href=\"#DejaVuSans-118\"/>\n     <use x=\"705.416016\" xlink:href=\"#DejaVuSans-97\"/>\n     <use x=\"766.695312\" xlink:href=\"#DejaVuSans-108\"/>\n     <use x=\"794.478516\" xlink:href=\"#DejaVuSans-105\"/>\n     <use x=\"822.261719\" xlink:href=\"#DejaVuSans-100\"/>\n     <use x=\"885.738281\" xlink:href=\"#DejaVuSans-97\"/>\n     <use x=\"947.017578\" xlink:href=\"#DejaVuSans-116\"/>\n     <use x=\"986.226562\" xlink:href=\"#DejaVuSans-105\"/>\n     <use x=\"1014.009766\" xlink:href=\"#DejaVuSans-111\"/>\n     <use x=\"1075.191406\" xlink:href=\"#DejaVuSans-110\"/>\n     <use x=\"1138.570312\" xlink:href=\"#DejaVuSans-32\"/>\n     <use x=\"1170.357422\" xlink:href=\"#DejaVuSans-108\"/>\n     <use x=\"1198.140625\" xlink:href=\"#DejaVuSans-111\"/>\n     <use x=\"1259.322266\" xlink:href=\"#DejaVuSans-115\"/>\n     <use x=\"1311.421875\" xlink:href=\"#DejaVuSans-115\"/>\n    </g>\n   </g>\n   <g id=\"legend_1\">\n    <g id=\"patch_7\">\n     <path d=\"M 304.715625 60.230625 \nL 384.30625 60.230625 \nQ 386.30625 60.230625 386.30625 58.230625 \nL 386.30625 29.318125 \nQ 386.30625 27.318125 384.30625 27.318125 \nL 304.715625 27.318125 \nQ 302.715625 27.318125 302.715625 29.318125 \nL 302.715625 58.230625 \nQ 302.715625 60.230625 304.715625 60.230625 \nz\n\" style=\"fill:#ffffff;opacity:0.8;stroke:#cccccc;stroke-linejoin:miter;\"/>\n    </g>\n    <g id=\"line2d_14\">\n     <path d=\"M 306.715625 35.416562 \nL 326.715625 35.416562 \n\" style=\"fill:none;stroke:#0000ff;stroke-dasharray:5.55,2.4;stroke-dashoffset:0;stroke-width:1.5;\"/>\n    </g>\n    <g id=\"line2d_15\">\n     <g>\n      <use style=\"fill:#0000ff;stroke:#0000ff;\" x=\"316.715625\" xlink:href=\"#mad2d9c7159\" y=\"35.416562\"/>\n     </g>\n    </g>\n    <g id=\"text_15\">\n     <!-- train_loss -->\n     <defs>\n      <path d=\"M 50.984375 -16.609375 \nL 50.984375 -23.578125 \nL -0.984375 -23.578125 \nL -0.984375 -16.609375 \nz\n\" id=\"DejaVuSans-95\"/>\n     </defs>\n     <g transform=\"translate(334.715625 38.916562)scale(0.1 -0.1)\">\n      <use xlink:href=\"#DejaVuSans-116\"/>\n      <use x=\"39.208984\" xlink:href=\"#DejaVuSans-114\"/>\n      <use x=\"80.322266\" xlink:href=\"#DejaVuSans-97\"/>\n      <use x=\"141.601562\" xlink:href=\"#DejaVuSans-105\"/>\n      <use x=\"169.384766\" xlink:href=\"#DejaVuSans-110\"/>\n      <use x=\"232.763672\" xlink:href=\"#DejaVuSans-95\"/>\n      <use x=\"282.763672\" xlink:href=\"#DejaVuSans-108\"/>\n      <use x=\"310.546875\" xlink:href=\"#DejaVuSans-111\"/>\n      <use x=\"371.728516\" xlink:href=\"#DejaVuSans-115\"/>\n      <use x=\"423.828125\" xlink:href=\"#DejaVuSans-115\"/>\n     </g>\n    </g>\n    <g id=\"line2d_16\">\n     <path d=\"M 306.715625 50.372812 \nL 326.715625 50.372812 \n\" style=\"fill:none;stroke:#ff0000;stroke-linecap:square;stroke-width:1.5;\"/>\n    </g>\n    <g id=\"line2d_17\">\n     <g>\n      <use style=\"fill:#ff0000;stroke:#ff0000;\" x=\"316.715625\" xlink:href=\"#m50f743ab54\" y=\"50.372812\"/>\n     </g>\n    </g>\n    <g id=\"text_16\">\n     <!-- val_loss -->\n     <g transform=\"translate(334.715625 53.872812)scale(0.1 -0.1)\">\n      <use xlink:href=\"#DejaVuSans-118\"/>\n      <use x=\"59.179688\" xlink:href=\"#DejaVuSans-97\"/>\n      <use x=\"120.458984\" xlink:href=\"#DejaVuSans-108\"/>\n      <use x=\"148.242188\" xlink:href=\"#DejaVuSans-95\"/>\n      <use x=\"198.242188\" xlink:href=\"#DejaVuSans-108\"/>\n      <use x=\"226.025391\" xlink:href=\"#DejaVuSans-111\"/>\n      <use x=\"287.207031\" xlink:href=\"#DejaVuSans-115\"/>\n      <use x=\"339.306641\" xlink:href=\"#DejaVuSans-115\"/>\n     </g>\n    </g>\n   </g>\n  </g>\n </g>\n <defs>\n  <clipPath id=\"p302c473d89\">\n   <rect height=\"217.44\" width=\"334.8\" x=\"56.50625\" y=\"22.318125\"/>\n  </clipPath>\n </defs>\n</svg>\n"
          },
          "metadata": {
            "tags": [],
            "needs_background": "light"
          }
        }
      ]
    },
    {
      "cell_type": "code",
      "metadata": {
        "id": "NyD6iwBOsAQq",
        "outputId": "dc551b3b-c6c8-460a-cc28-fd314936f767",
        "colab": {
          "base_uri": "https://localhost:8080/",
          "height": 357
        }
      },
      "source": [
        "# 模型预测\n",
        "model.predict(ds_test)\n",
        "\n",
        "for x,y in ds_test.take(1):\n",
        "    print(model.predict_on_batch(x[0:20]))"
      ],
      "execution_count": 59,
      "outputs": [
        {
          "output_type": "stream",
          "text": [
            "[[6.7344529e-18]\n",
            " [2.4817183e-22]\n",
            " [3.6471053e-23]\n",
            " [3.2709612e-18]\n",
            " [1.2445722e-23]\n",
            " [8.8375677e-24]\n",
            " [1.5649270e-20]\n",
            " [3.0688914e-20]\n",
            " [3.0474494e-20]\n",
            " [6.7916012e-13]\n",
            " [9.7053671e-29]\n",
            " [1.6192083e-23]\n",
            " [5.9889241e-18]\n",
            " [8.3745262e-38]\n",
            " [6.2651756e-23]\n",
            " [5.1534721e-24]\n",
            " [1.4434565e-19]\n",
            " [3.4899935e-17]\n",
            " [3.5848186e-28]\n",
            " [4.6178301e-18]]\n"
          ],
          "name": "stdout"
        }
      ]
    },
    {
      "cell_type": "code",
      "metadata": {
        "id": "RoTKvMNRsGt9"
      },
      "source": [
        "# 保存模型\n",
        "# 保存权重，该方式仅仅保存权重张量\n",
        "model.save_weights('./data/tf_model_weights.ckpt',save_format = \"tf\")\n",
        "# 保存模型结构与模型参数到文件,该方式保存的模型具有跨平台性便于部署\n",
        "\n",
        "model.save('./data/tf_model_savedmodel', save_format=\"tf\")\n",
        "print('export saved model.')\n",
        "\n",
        "model_loaded = tf.keras.models.load_model('./data/tf_model_savedmodel')\n",
        "model_loaded.evaluate(ds_test)\n"
      ],
      "execution_count": null,
      "outputs": []
    }
  ]
}