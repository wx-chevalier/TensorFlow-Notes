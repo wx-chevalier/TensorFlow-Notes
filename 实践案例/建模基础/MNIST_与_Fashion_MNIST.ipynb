{
  "nbformat": 4,
  "nbformat_minor": 0,
  "metadata": {
    "colab": {
      "name": "MNIST 与 Fashion MNIST.ipynb",
      "provenance": [],
      "collapsed_sections": []
    },
    "kernelspec": {
      "name": "python3",
      "display_name": "Python 3"
    }
  },
  "cells": [
    {
      "cell_type": "markdown",
      "metadata": {
        "id": "xArGdNOOEvkl"
      },
      "source": [
        "# MNIST\n",
        "\n",
        "MNIST 是手写数字图片数据集，包含 60000 张训练样本和 10000 张测试样本。\n",
        "\n",
        "![MNIST](https://s1.ax1x.com/2020/10/07/0aK8ht.png)\n",
        "\n",
        "MNIST 数据集来自美国国家标准与技术研究所，National Institute of Standards and Technology(NIST)。现在你是不是知道这个数据集名字的由来了。M 是 Modified 的缩写。训练集是由来自 250 个不同人手写的数字构成，其中50%是高中学生，50%来自人口普查局的工作人员。测试集也是同样比例的手写数字数据。每张图片有28x28个像素点构成，每个像素点用一个灰度值表示，这里是将 28x28 的像素展开为一个一维的行向量（每行784个值）。图片标签为 one-hot 编码：0-9。\n"
      ]
    },
    {
      "cell_type": "code",
      "metadata": {
        "id": "dDu-Fi1PF2Yg",
        "outputId": "327d8d6b-3b76-4502-b279-3d1d26566e88",
        "colab": {
          "base_uri": "https://localhost:8080/"
        }
      },
      "source": [
        "import  tensorflow as tf\n",
        "from    tensorflow.keras import datasets, layers, optimizers, Sequential, metrics\n",
        "\n",
        "(xs, ys),_ = datasets.mnist.load_data()\n",
        "print('datasets:', xs.shape, ys.shape, xs.min(), xs.max())"
      ],
      "execution_count": 1,
      "outputs": [
        {
          "output_type": "stream",
          "text": [
            "datasets: (60000, 28, 28) (60000,) 0 255\n"
          ],
          "name": "stdout"
        }
      ]
    },
    {
      "cell_type": "code",
      "metadata": {
        "id": "fgMp0MEzEmNb",
        "outputId": "78544f7f-297c-44ca-bae2-df696a3cf8d9",
        "colab": {
          "base_uri": "https://localhost:8080/"
        }
      },
      "source": [
        "xs = tf.convert_to_tensor(xs, dtype=tf.float32) / 255.\n",
        "db = tf.data.Dataset.from_tensor_slices((xs,ys))\n",
        "db = db.batch(32).repeat(10)\n",
        "\n",
        "network = Sequential([layers.Dense(256, activation='relu'),\n",
        "                     layers.Dense(256, activation='relu'),\n",
        "                     layers.Dense(256, activation='relu'),\n",
        "                     layers.Dense(10)])\n",
        "network.build(input_shape=(None, 28*28))\n",
        "network.summary()\n",
        "\n",
        "optimizer = optimizers.SGD(lr=0.01)\n",
        "acc_meter = metrics.Accuracy()"
      ],
      "execution_count": 2,
      "outputs": [
        {
          "output_type": "stream",
          "text": [
            "Model: \"sequential\"\n",
            "_________________________________________________________________\n",
            "Layer (type)                 Output Shape              Param #   \n",
            "=================================================================\n",
            "dense (Dense)                (None, 256)               200960    \n",
            "_________________________________________________________________\n",
            "dense_1 (Dense)              (None, 256)               65792     \n",
            "_________________________________________________________________\n",
            "dense_2 (Dense)              (None, 256)               65792     \n",
            "_________________________________________________________________\n",
            "dense_3 (Dense)              (None, 10)                2570      \n",
            "=================================================================\n",
            "Total params: 335,114\n",
            "Trainable params: 335,114\n",
            "Non-trainable params: 0\n",
            "_________________________________________________________________\n"
          ],
          "name": "stdout"
        }
      ]
    },
    {
      "cell_type": "code",
      "metadata": {
        "id": "awm1fnfXF6l7",
        "outputId": "6da083b7-ecbe-4f37-8d10-ed27766c4e7f",
        "colab": {
          "base_uri": "https://localhost:8080/"
        }
      },
      "source": [
        "for step, (x,y) in enumerate(db):\n",
        "\n",
        "    with tf.GradientTape() as tape:\n",
        "        # [b, 28, 28] => [b, 784]\n",
        "        x = tf.reshape(x, (-1, 28*28))\n",
        "        # [b, 784] => [b, 10]\n",
        "        out = network(x)\n",
        "        # [b] => [b, 10]\n",
        "        y_onehot = tf.one_hot(y, depth=10)\n",
        "        # [b, 10]\n",
        "        loss = tf.square(out-y_onehot)\n",
        "        # [b]\n",
        "        loss = tf.reduce_sum(loss) / 32\n",
        "\n",
        "    acc_meter.update_state(tf.argmax(out, axis=1), y)\n",
        "\n",
        "    grads = tape.gradient(loss, network.trainable_variables)\n",
        "    optimizer.apply_gradients(zip(grads, network.trainable_variables))\n",
        "\n",
        "    if step % 200==0:\n",
        "\n",
        "        print(step, 'loss:', float(loss), 'acc:', acc_meter.result().numpy())\n",
        "        acc_meter.reset_states()"
      ],
      "execution_count": 3,
      "outputs": [
        {
          "output_type": "stream",
          "text": [
            "0 loss: 1.4306284189224243 acc: 0.0625\n",
            "200 loss: 0.4448701739311218 acc: 0.68640625\n",
            "400 loss: 0.3747585415840149 acc: 0.843125\n",
            "600 loss: 0.3297494351863861 acc: 0.8715625\n",
            "800 loss: 0.25796979665756226 acc: 0.9010937\n",
            "1000 loss: 0.31862908601760864 acc: 0.9\n",
            "1200 loss: 0.2641947269439697 acc: 0.9146875\n",
            "1400 loss: 0.1903838813304901 acc: 0.9215625\n",
            "1600 loss: 0.22767513990402222 acc: 0.915\n",
            "1800 loss: 0.19204671680927277 acc: 0.9315625\n",
            "2000 loss: 0.19200192391872406 acc: 0.9421875\n",
            "2200 loss: 0.14366909861564636 acc: 0.93171877\n",
            "2400 loss: 0.22292569279670715 acc: 0.929375\n",
            "2600 loss: 0.1871187388896942 acc: 0.93859375\n",
            "2800 loss: 0.1343429684638977 acc: 0.9401562\n",
            "3000 loss: 0.22224950790405273 acc: 0.9375\n",
            "3200 loss: 0.16576802730560303 acc: 0.94390625\n",
            "3400 loss: 0.12804614007472992 acc: 0.9384375\n",
            "3600 loss: 0.11516376584768295 acc: 0.9403125\n",
            "3800 loss: 0.16437432169914246 acc: 0.9571875\n",
            "4000 loss: 0.18683916330337524 acc: 0.95390624\n",
            "4200 loss: 0.15023627877235413 acc: 0.9423438\n",
            "4400 loss: 0.14074836671352386 acc: 0.94953126\n",
            "4600 loss: 0.21020254492759705 acc: 0.9490625\n",
            "4800 loss: 0.12184644490480423 acc: 0.9478125\n",
            "5000 loss: 0.12977668642997742 acc: 0.95421875\n",
            "5200 loss: 0.21568626165390015 acc: 0.949375\n",
            "5400 loss: 0.21360041201114655 acc: 0.9490625\n",
            "5600 loss: 0.08111277967691422 acc: 0.9635937\n",
            "5800 loss: 0.1568068563938141 acc: 0.95875\n",
            "6000 loss: 0.12038163095712662 acc: 0.95453125\n",
            "6200 loss: 0.16996517777442932 acc: 0.9534375\n",
            "6400 loss: 0.1080772802233696 acc: 0.955625\n",
            "6600 loss: 0.10268700122833252 acc: 0.95734376\n",
            "6800 loss: 0.10930800437927246 acc: 0.95890623\n",
            "7000 loss: 0.08943808078765869 acc: 0.960625\n",
            "7200 loss: 0.27317526936531067 acc: 0.9496875\n",
            "7400 loss: 0.11069387197494507 acc: 0.96171874\n",
            "7600 loss: 0.14062944054603577 acc: 0.96765625\n",
            "7800 loss: 0.08871114253997803 acc: 0.95921874\n",
            "8000 loss: 0.15941475331783295 acc: 0.96046877\n",
            "8200 loss: 0.07513926923274994 acc: 0.961875\n",
            "8400 loss: 0.08159859478473663 acc: 0.95875\n",
            "8600 loss: 0.10613764822483063 acc: 0.9609375\n",
            "8800 loss: 0.1401558220386505 acc: 0.9653125\n",
            "9000 loss: 0.13424691557884216 acc: 0.9582813\n",
            "9200 loss: 0.05892815440893173 acc: 0.9609375\n",
            "9400 loss: 0.08325140923261642 acc: 0.9715625\n",
            "9600 loss: 0.17623186111450195 acc: 0.9671875\n",
            "9800 loss: 0.051647964864969254 acc: 0.9632813\n",
            "10000 loss: 0.1485290825366974 acc: 0.96203125\n",
            "10200 loss: 0.09386896342039108 acc: 0.964375\n",
            "10400 loss: 0.1286364495754242 acc: 0.9607813\n",
            "10600 loss: 0.07332530617713928 acc: 0.96875\n",
            "10800 loss: 0.1608557403087616 acc: 0.9646875\n",
            "11000 loss: 0.09395915269851685 acc: 0.9610937\n",
            "11200 loss: 0.09315861761569977 acc: 0.96984375\n",
            "11400 loss: 0.09552191197872162 acc: 0.9710938\n",
            "11600 loss: 0.14043155312538147 acc: 0.96734375\n",
            "11800 loss: 0.09647960960865021 acc: 0.96453124\n",
            "12000 loss: 0.07825043797492981 acc: 0.9678125\n",
            "12200 loss: 0.06029215827584267 acc: 0.96625\n",
            "12400 loss: 0.111250139772892 acc: 0.97015625\n",
            "12600 loss: 0.15903331339359283 acc: 0.9675\n",
            "12800 loss: 0.11519745737314224 acc: 0.96421874\n",
            "13000 loss: 0.0936691090464592 acc: 0.96875\n",
            "13200 loss: 0.16437892615795135 acc: 0.97453123\n",
            "13400 loss: 0.07904060184955597 acc: 0.9725\n",
            "13600 loss: 0.07818609476089478 acc: 0.96765625\n",
            "13800 loss: 0.08812958002090454 acc: 0.970625\n",
            "14000 loss: 0.06270653009414673 acc: 0.96875\n",
            "14200 loss: 0.21322324872016907 acc: 0.9709375\n",
            "14400 loss: 0.08376164734363556 acc: 0.9721875\n",
            "14600 loss: 0.1712322235107422 acc: 0.96765625\n",
            "14800 loss: 0.07116663455963135 acc: 0.9678125\n",
            "15000 loss: 0.07900820672512054 acc: 0.978125\n",
            "15200 loss: 0.1057584211230278 acc: 0.97328126\n",
            "15400 loss: 0.08267108350992203 acc: 0.970625\n",
            "15600 loss: 0.0997520238161087 acc: 0.970625\n",
            "15800 loss: 0.08057215064764023 acc: 0.971875\n",
            "16000 loss: 0.10565978288650513 acc: 0.96984375\n",
            "16200 loss: 0.08546418696641922 acc: 0.9746875\n",
            "16400 loss: 0.06419719755649567 acc: 0.97328126\n",
            "16600 loss: 0.07286377996206284 acc: 0.96703124\n",
            "16800 loss: 0.08846255391836166 acc: 0.9746875\n",
            "17000 loss: 0.08305467665195465 acc: 0.9775\n",
            "17200 loss: 0.037794049829244614 acc: 0.97328126\n",
            "17400 loss: 0.07770724594593048 acc: 0.9721875\n",
            "17600 loss: 0.0796474888920784 acc: 0.97234374\n",
            "17800 loss: 0.05029826611280441 acc: 0.97296876\n",
            "18000 loss: 0.07062846422195435 acc: 0.975\n",
            "18200 loss: 0.07140234112739563 acc: 0.974375\n",
            "18400 loss: 0.051791004836559296 acc: 0.97265625\n",
            "18600 loss: 0.051353681832551956 acc: 0.970625\n"
          ],
          "name": "stdout"
        }
      ]
    },
    {
      "cell_type": "markdown",
      "metadata": {
        "id": "wTYcMcxiFJ_5"
      },
      "source": [
        "# Fashion MNIST\n",
        "\n",
        "Fashion-MNIST 是一个替代MNIST手写数字集的图像数据集。 它是由Zalando（一家德国的时尚科技公司）旗下的研究部门提供。其涵盖了来自10种类别的共7万个不同商品的正面图片。Fashion-MNIST的大小、格式和训练集/测试集划分与原始的MNIST完全一致。60000/10000的训练测试数据划分，28x28的灰度图片。你可以直接用它来测试你的机器学习和深度学习算法性能，且不需要改动任何的代码。\n",
        "\n",
        "![fashion-mnist-sprite](https://tensorflow.google.cn/images/fashion-mnist-sprite.png)"
      ]
    },
    {
      "cell_type": "code",
      "metadata": {
        "id": "9wks4JLF8077"
      },
      "source": [
        "# Matplotlib\n",
        "import matplotlib.pyplot as plt\n",
        "# Tensorflow\n",
        "import tensorflow as tf\n",
        "# Numpy and Pandas\n",
        "import numpy as np\n",
        "import pandas as pd\n",
        "# Ohter import\n",
        "import sys"
      ],
      "execution_count": 1,
      "outputs": []
    },
    {
      "cell_type": "code",
      "metadata": {
        "id": "2LTRj6rI85N_",
        "outputId": "7dd2a3ed-95eb-4106-c324-8671d29e85ac",
        "colab": {
          "base_uri": "https://localhost:8080/"
        }
      },
      "source": [
        "# Load the dataset: Fashion MNIST\n",
        "from sklearn.preprocessing import StandardScaler\n",
        "\n",
        "# Fashio MNIST\n",
        "fashion_mnist = tf.keras.datasets.fashion_mnist\n",
        "(images, targets), (images_test, targets_test) = fashion_mnist.load_data()\n",
        "\n",
        "# Get only a subpart of the dataset\n",
        "images = images[:10000]\n",
        "targets = targets [:10000]\n",
        "\n",
        "# Reshape the dataset and convert to float\n",
        "images = images.reshape(-1, 784)\n",
        "images = images.astype(float)\n",
        "images_test = images_test.reshape(-1, 784)\n",
        "images_test = images_test.astype(float)\n",
        "\n",
        "scaler = StandardScaler()\n",
        "images = scaler.fit_transform(images)\n",
        "images_test = scaler.transform(images_test)\n",
        "\n",
        "print(images.shape)\n",
        "print(targets.shape)"
      ],
      "execution_count": 2,
      "outputs": [
        {
          "output_type": "stream",
          "text": [
            "Downloading data from https://storage.googleapis.com/tensorflow/tf-keras-datasets/train-labels-idx1-ubyte.gz\n",
            "32768/29515 [=================================] - 0s 0us/step\n",
            "Downloading data from https://storage.googleapis.com/tensorflow/tf-keras-datasets/train-images-idx3-ubyte.gz\n",
            "26427392/26421880 [==============================] - 0s 0us/step\n",
            "Downloading data from https://storage.googleapis.com/tensorflow/tf-keras-datasets/t10k-labels-idx1-ubyte.gz\n",
            "8192/5148 [===============================================] - 0s 0us/step\n",
            "Downloading data from https://storage.googleapis.com/tensorflow/tf-keras-datasets/t10k-images-idx3-ubyte.gz\n",
            "4423680/4422102 [==============================] - 0s 0us/step\n",
            "(10000, 784)\n",
            "(10000,)\n"
          ],
          "name": "stdout"
        }
      ]
    },
    {
      "cell_type": "code",
      "metadata": {
        "id": "3wZftHAa8936",
        "outputId": "6a754280-9489-4c9f-ff28-aeb150d184e4",
        "colab": {
          "base_uri": "https://localhost:8080/",
          "height": 281
        }
      },
      "source": [
        "# Plot one of the data\n",
        "targets_names = [\"T-shirt/top\", \"Trouser\", \"Pullover\", \"Dress\", \"Coat\", \"Sandal\", \n",
        "                 \"Shirt\", \"Sneaker\", \"Bag\", \"Ankle boot\"\n",
        "]\n",
        "\n",
        "# Plot one image\n",
        "plt.imshow(np.reshape(images[11], (28, 28)), cmap=\"binary\")\n",
        "plt.title(targets_names[targets[11]])\n",
        "plt.show()"
      ],
      "execution_count": 3,
      "outputs": [
        {
          "output_type": "display_data",
          "data": {
            "image/png": "[encoded data removed]",
            "text/plain": [
              "<Figure size 432x288 with 1 Axes>"
            ]
          },
          "metadata": {
            "tags": [],
            "needs_background": "light"
          }
        }
      ]
    },
    {
      "cell_type": "markdown",
      "metadata": {
        "id": "R4lBP6y9_tOn"
      },
      "source": [
        "![](https://github.com/thibo73800/tensorflow2.0-examples/raw/75af5fe0a2cc6744c020bb5cc4bbf552f225298f/images/simple_nn.png)"
      ]
    },
    {
      "cell_type": "code",
      "metadata": {
        "id": "k5IL2nBn_vqL",
        "outputId": "a4edaab6-57f9-45de-a118-6cec074e12e4",
        "colab": {
          "base_uri": "https://localhost:8080/"
        }
      },
      "source": [
        "# Flatten\n",
        "model = tf.keras.models.Sequential()\n",
        "\n",
        "# Add the layers\n",
        "model.add(tf.keras.layers.Dense(256, activation=\"relu\"))\n",
        "model.add(tf.keras.layers.Dense(128, activation=\"relu\"))\n",
        "model.add(tf.keras.layers.Dense(10, activation=\"softmax\"))\n",
        "\n",
        "model_output = model.predict(images[0:1])\n",
        "print(model_output, targets[0:1])"
      ],
      "execution_count": 4,
      "outputs": [
        {
          "output_type": "stream",
          "text": [
            "[[0.08722198 0.10878643 0.03967797 0.05929448 0.00588827 0.48148462\n",
            "  0.02125843 0.08187865 0.06266229 0.05184688]] [9]\n"
          ],
          "name": "stdout"
        }
      ]
    },
    {
      "cell_type": "code",
      "metadata": {
        "id": "pMJ5TpWl_y31",
        "outputId": "5c827d7c-3625-41ff-ad8b-fc409594c635",
        "colab": {
          "base_uri": "https://localhost:8080/"
        }
      },
      "source": [
        "# 三个全连接层\n",
        "model.summary()"
      ],
      "execution_count": 5,
      "outputs": [
        {
          "output_type": "stream",
          "text": [
            "Model: \"sequential\"\n",
            "_________________________________________________________________\n",
            "Layer (type)                 Output Shape              Param #   \n",
            "=================================================================\n",
            "dense (Dense)                (None, 256)               200960    \n",
            "_________________________________________________________________\n",
            "dense_1 (Dense)              (None, 128)               32896     \n",
            "_________________________________________________________________\n",
            "dense_2 (Dense)              (None, 10)                1290      \n",
            "=================================================================\n",
            "Total params: 235,146\n",
            "Trainable params: 235,146\n",
            "Non-trainable params: 0\n",
            "_________________________________________________________________\n"
          ],
          "name": "stdout"
        }
      ]
    },
    {
      "cell_type": "code",
      "metadata": {
        "id": "1cqjT16K_5vT",
        "outputId": "b89696c9-7487-4b65-9b71-451b4439cbd1",
        "colab": {
          "base_uri": "https://localhost:8080/"
        }
      },
      "source": [
        "# Compile the model\n",
        "model.compile(\n",
        "    loss=\"sparse_categorical_crossentropy\",\n",
        "    optimizer=\"sgd\",\n",
        "    metrics=[\"accuracy\"]\n",
        ")\n",
        "\n",
        "history = model.fit(images, targets, epochs=10, validation_split=0.2)"
      ],
      "execution_count": 8,
      "outputs": [
        {
          "output_type": "stream",
          "text": [
            "Epoch 1/10\n",
            "250/250 [==============================] - 1s 3ms/step - loss: 0.8657 - accuracy: 0.7151 - val_loss: 0.6111 - val_accuracy: 0.7800\n",
            "Epoch 2/10\n",
            "250/250 [==============================] - 1s 3ms/step - loss: 0.5224 - accuracy: 0.8135 - val_loss: 0.5114 - val_accuracy: 0.8140\n",
            "Epoch 3/10\n",
            "250/250 [==============================] - 1s 3ms/step - loss: 0.4416 - accuracy: 0.8428 - val_loss: 0.4738 - val_accuracy: 0.8230\n",
            "Epoch 4/10\n",
            "250/250 [==============================] - 1s 3ms/step - loss: 0.3963 - accuracy: 0.8606 - val_loss: 0.4615 - val_accuracy: 0.8300\n",
            "Epoch 5/10\n",
            "250/250 [==============================] - 1s 3ms/step - loss: 0.3634 - accuracy: 0.8744 - val_loss: 0.4321 - val_accuracy: 0.8435\n",
            "Epoch 6/10\n",
            "250/250 [==============================] - 1s 3ms/step - loss: 0.3365 - accuracy: 0.8821 - val_loss: 0.4225 - val_accuracy: 0.8480\n",
            "Epoch 7/10\n",
            "250/250 [==============================] - 1s 3ms/step - loss: 0.3143 - accuracy: 0.8936 - val_loss: 0.4191 - val_accuracy: 0.8500\n",
            "Epoch 8/10\n",
            "250/250 [==============================] - 1s 3ms/step - loss: 0.2947 - accuracy: 0.9005 - val_loss: 0.4255 - val_accuracy: 0.8525\n",
            "Epoch 9/10\n",
            "250/250 [==============================] - 1s 3ms/step - loss: 0.2789 - accuracy: 0.9053 - val_loss: 0.4052 - val_accuracy: 0.8570\n",
            "Epoch 10/10\n",
            "250/250 [==============================] - 1s 3ms/step - loss: 0.2625 - accuracy: 0.9155 - val_loss: 0.3995 - val_accuracy: 0.8640\n"
          ],
          "name": "stdout"
        }
      ]
    },
    {
      "cell_type": "code",
      "metadata": {
        "id": "nohO43C0ADqQ",
        "outputId": "592254a7-4245-4a87-e138-7adf6233881a",
        "colab": {
          "base_uri": "https://localhost:8080/",
          "height": 545
        }
      },
      "source": [
        "loss_curve = history.history[\"loss\"]\n",
        "acc_curve = history.history[\"accuracy\"]\n",
        "\n",
        "loss_val_curve = history.history[\"val_loss\"]\n",
        "acc_val_curve = history.history[\"val_accuracy\"]\n",
        "\n",
        "plt.plot(loss_curve, label=\"Train\")\n",
        "plt.plot(loss_val_curve, label=\"Val\")\n",
        "plt.legend(loc='upper left')\n",
        "plt.title(\"Loss\")\n",
        "plt.show()\n",
        "\n",
        "plt.plot(acc_curve, label=\"Train\")\n",
        "plt.plot(acc_val_curve, label=\"Val\")\n",
        "plt.legend(loc='upper left')\n",
        "plt.title(\"Accuracy\")\n",
        "plt.show()"
      ],
      "execution_count": 9,
      "outputs": [
        {
          "output_type": "display_data",
          "data": {
            "image/png": "[encoded data removed]",
            "text/plain": [
              "<Figure size 432x288 with 1 Axes>"
            ]
          },
          "metadata": {
            "tags": [],
            "needs_background": "light"
          }
        },
        {
          "output_type": "display_data",
          "data": {
            "image/png": "[encoded data removed]",
            "text/plain": [
              "<Figure size 432x288 with 1 Axes>"
            ]
          },
          "metadata": {
            "tags": [],
            "needs_background": "light"
          }
        }
      ]
    },
    {
      "cell_type": "code",
      "metadata": {
        "id": "ZD7MwA_RAGbN",
        "outputId": "15f82bcc-7ef5-416a-bef3-21406f9e6845",
        "colab": {
          "base_uri": "https://localhost:8080/"
        }
      },
      "source": [
        "loss, acc = model.evaluate(images_test, targets_test)\n",
        "print(\"Test Loss\", loss)\n",
        "print(\"Test Accuracy\", acc)"
      ],
      "execution_count": 10,
      "outputs": [
        {
          "output_type": "stream",
          "text": [
            "313/313 [==============================] - 0s 1ms/step - loss: 0.4412 - accuracy: 0.8464\n",
            "Test Loss 0.4412473738193512\n",
            "Test Accuracy 0.8464000225067139\n"
          ],
          "name": "stdout"
        }
      ]
    }
  ]
}